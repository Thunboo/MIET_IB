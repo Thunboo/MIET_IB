{
 "cells": [
  {
   "cell_type": "code",
   "execution_count": 17,
   "id": "dcd661cc",
   "metadata": {},
   "outputs": [
    {
     "name": "stdout",
     "output_type": "stream",
     "text": [
      "50\n",
      "0.96 , 3.03 , 6.07 , 5.01 , 6.30 , 4.66 , 6.05 , 5.15 , 10.45 , -1.58 , 2.69 , 0.61 , 4.41 , 9.84 , 4.27 , 2.55 , 2.17 , 11.28 , 2.87 , 7.81 , 4.80 , -0.77 , 0.20 , 6.28 , 4.66 , 2.48 , 11.25 , 7.02 , 7.07 , 4.76 , 10.68 , 0.90 , 2.42 , 7.26 , 8.23 , 4.76 , -1.01 , 10.66 , -0.04 , 7.61 , 8.23 , 2.69 , 3.63 , 2.09 , 3.29 , 7.53 , 3.12 , 1.01 , 5.92 , 1.62\n"
     ]
    }
   ],
   "source": [
    "raw_X = [0.96 , 3.03 , 6.07 , 5.01 , 6.30 , 4.66 , 6.05 , 5.15 , 10.45 , -1.58 , 2.69 , 0.61 , 4.41 , 9.84 , 4.27 , 2.55 , 2.17 , 11.28 , 2.87 , 7.81 , 4.80 , -0.77 , 0.20 , 6.28 , 4.66 , 2.48 , 11.25 , 7.02 , 7.07 , 4.76 , 10.68 , 0.90 , 2.42 , 7.26 , 8.23 , 4.76 , -1.01 , 10.66 , -0.04 , 7.61 , 8.23 , 2.69 , 3.63 , 2.09 , 3.29 , 7.53 , 3.12 , 1.01 , 5.92 , 1.62]\n",
    "\n",
    "print(len(raw_X))\n",
    "\n",
    "t_x = '''0,96 \n",
    "3,03 \n",
    "6,07 \n",
    "5,01 \n",
    "6,30 \n",
    "4,66 \n",
    "6,05 \n",
    "5,15 \n",
    "10,45 \n",
    "–1,58 \n",
    "2,69 \n",
    "0,61 \n",
    "4,41 \n",
    "9,84 \n",
    "4,27 \n",
    "2,55 \n",
    "2,17 \n",
    "11,28 \n",
    "2,87 \n",
    "7,81 \n",
    "4,80 \n",
    "–0,77 \n",
    "0,20 \n",
    "6,28 \n",
    "4,66 \n",
    "2,48 \n",
    "11,25 \n",
    "7,02 \n",
    "7,07 \n",
    "4,76 \n",
    "10,68 \n",
    "0,90 \n",
    "2,42 \n",
    "7,26 \n",
    "8,23 \n",
    "4,76 \n",
    "–1,01 \n",
    "10,66 \n",
    "–0,04 \n",
    "7,61 \n",
    "8,23 \n",
    "2,69 \n",
    "3,63 \n",
    "2,09 \n",
    "3,29 \n",
    "7,53 \n",
    "3,12 \n",
    "1,01 \n",
    "5,92 \n",
    "1,62'''\n",
    "\n",
    "t_x = t_x.replace('–', '-').replace(',', '.').replace('\\n', ', ')\n",
    "print(t_x)"
   ]
  },
  {
   "cell_type": "code",
   "execution_count": 18,
   "id": "9abf80c9",
   "metadata": {},
   "outputs": [
    {
     "name": "stdout",
     "output_type": "stream",
     "text": [
      "50\n",
      "8.37 , 22.56 , 32.18 , 11.60 , 21.63 , 22.30 , 15.46 , 21.54 , 24.72 , 6.66 , 6.56 , 11.92 , 21.89 , 28.98 , 15.35 , 6.05 , 13.24 , 28.59 , 10.68 , 12.04 , 29.13 , 11.45 , 6.61 , 23.97 , 14.96 , 17.07 , 29.38 , 30.78 , 21.34 , 21.44 , 29.12 , 17.31 , 5.47 , 23.93 , 30.34 , 7.82 , 5.17 , 14.87 , 5.26 , 24.42 , 30.34 , 12.63 , 19.67 , 4.43 , 23.02 , 15.25 , 11.32 , 10.24 , 28.54 , 5.32\n"
     ]
    }
   ],
   "source": [
    "raw_Y = [8.37 , 22.56 , 32.18 , 11.60 , 21.63 , 22.30 , 15.46 , 21.54 , 24.72 , 6.66 , 6.56 , 11.92 , 21.89 , 28.98 , 15.35 , 6.05 , 13.24 , 28.59 , 10.68 , 12.04 , 29.13 , 11.45 , 6.61 , 23.97 , 14.96 , 17.07 , 29.38 , 30.78 , 21.34 , 21.44 , 29.12 , 17.31 , 5.47 , 23.93 , 30.34 , 7.82 , 5.17 , 14.87 , 5.26 , 24.42 , 30.34 , 12.63 , 19.67 , 4.43 , 23.02 , 15.25 , 11.32 , 10.24 , 28.54 , 5.32]\n",
    "\n",
    "print(len(raw_Y))\n",
    "\n",
    "t_y = '''8,37 \n",
    "22,56 \n",
    "32,18 \n",
    "11,60 \n",
    "21,63 \n",
    "22,30 \n",
    "15,46 \n",
    "21,54 \n",
    "24,72 \n",
    "6,66 \n",
    "6,56 \n",
    "11,92 \n",
    "21,89 \n",
    "28,98 \n",
    "15,35 \n",
    "6,05 \n",
    "13,24 \n",
    "28,59 \n",
    "10,68 \n",
    "12,04 \n",
    "29,13 \n",
    "11,45 \n",
    "6,61 \n",
    "23,97 \n",
    "14,96 \n",
    "17,07 \n",
    "29,38 \n",
    "30,78 \n",
    "21,34 \n",
    "21,44 \n",
    "29,12 \n",
    "17,31 \n",
    "5,47 \n",
    "23,93 \n",
    "30,34 \n",
    "7,82 \n",
    "5,17 \n",
    "14,87 \n",
    "5,26 \n",
    "24,42 \n",
    "30,34 \n",
    "12,63 \n",
    "19,67 \n",
    "4,43 \n",
    "23,02 \n",
    "15,25 \n",
    "11,32 \n",
    "10,24 \n",
    "28,54 \n",
    "5,32'''\n",
    "\n",
    "t_y = t_y.replace('–', '-').replace(',', '.').replace('\\n', ', ')\n",
    "print(t_y)"
   ]
  },
  {
   "cell_type": "markdown",
   "id": "2dbba02d",
   "metadata": {},
   "source": [
    "# Время лабы"
   ]
  },
  {
   "cell_type": "code",
   "execution_count": 3,
   "id": "59d06bf1",
   "metadata": {},
   "outputs": [],
   "source": [
    "import numpy as np\n",
    "import scipy as sp \n",
    "import matplotlib.pyplot as plt\n",
    "import pandas as pd"
   ]
  },
  {
   "cell_type": "code",
   "execution_count": 4,
   "id": "7a4a495d",
   "metadata": {},
   "outputs": [],
   "source": [
    "X = raw_X.copy()\n",
    "Y = raw_Y.copy()"
   ]
  },
  {
   "cell_type": "markdown",
   "id": "4762d8cf",
   "metadata": {},
   "source": [
    "##### Для негруппированных данных необходимо проверить гипотезу $ H_0: \\rho_{X, Y} = 0 $ об отсутствии линейной статистической связи между компонентами $ X $ и $ Y $ при альтернативной гипотезе $ H_1: \\rho_{X, Y} \\neq 0 $. Уровень значимости $ \\alpha = 0,05 $.\n"
   ]
  },
  {
   "cell_type": "markdown",
   "id": "3f248e5b",
   "metadata": {},
   "source": [
    "<div style=\"font-size:18px\">\n",
    "Коэффициент корреляции Пирсона рассчитывается по формуле:\n",
    "\n",
    "$$\n",
    "r = \\frac{\\sum_{i=1}^{n} (x_i - \\bar{x})(y_i - \\bar{y})}{\\sqrt{\\sum_{i=1}^{n} (x_i - \\bar{x})^2} \\cdot \\sqrt{\\sum_{i=1}^{n} (y_i - \\bar{y})^2}}\n",
    "$$\n",
    "\n",
    "где:\n",
    "- $ x_i, y_i $ — значения переменных $ X $ и $ Y $ для $ i $-го наблюдения,\n",
    "- $ \\bar{x}, \\bar{y} $ — средние значения переменных $ X $ и $ Y $,\n",
    "- $ n $ — количество пар наблюдений.\n",
    "\n",
    "</div>"
   ]
  },
  {
   "cell_type": "code",
   "execution_count": 5,
   "id": "9b383776",
   "metadata": {},
   "outputs": [
    {
     "name": "stdout",
     "output_type": "stream",
     "text": [
      "r = 0.725055, p = 2.60815e-09\n",
      "2.6082e-09 < 0.05 : True => Есть статистически значимая линейная зависимость\n"
     ]
    },
    {
     "data": {
      "image/png": "[encoded data removed]",
      "text/plain": [
       "<Figure size 640x480 with 1 Axes>"
      ]
     },
     "metadata": {},
     "output_type": "display_data"
    }
   ],
   "source": [
    "alpha = .05 # По условию\n",
    "\n",
    "r, p = sp.stats.pearsonr(X, Y)\n",
    "\n",
    "print(f\"{r = :.6}, {p = :.6}\")\n",
    "print(f\"{p:.5} < {alpha} : {p < alpha:} => {'Есть статистически значимая линейная зависимость' if p < alpha else 'Нет достаточных оснований утверждать наличие линейной связи'}\")\n",
    "\n",
    "plt.scatter(X, Y, color=\"magenta\")\n",
    "\n",
    "plt.title(\"Диаграмма рассеивания начальной выборки\")\n",
    "plt.xlabel(\"X\")\n",
    "plt.ylabel(\"Y\")\n",
    "plt.xlim((min(X) - 1, max(X) + 1))\n",
    "plt.ylim((min(Y) - 1, max(Y) + 2))\n",
    "[plt.axvline(i, color=\"k\", alpha=.3) for i in np.linspace(np.floor(min(X)), np.ceil(max(X)), 5)]\n",
    "[plt.axhline(i, color=\"k\", alpha=.3) for i in np.linspace(np.floor(min(Y)), np.ceil(max(Y)), 5)]\n",
    "\n",
    "plt.show()"
   ]
  },
  {
   "cell_type": "markdown",
   "id": "5fb47947",
   "metadata": {},
   "source": [
    "<div style=\"font-size:18px\">\n",
    "\n",
    "Для негруппированных данных получить интервальную оценку для истинного значения коэффициента корреляции $ \\rho_{X,Y} $ при уровне значимости $ \\alpha = 0.05 $;"
   ]
  },
  {
   "cell_type": "markdown",
   "id": "62946f65",
   "metadata": {},
   "source": [
    "<div style=\"font-size:18px\">\n",
    "\n",
    "$$\n",
    "\\widetilde{K}_{X,Y} = \\frac{1}{n-1} \\sum_{m=1}^{n} (x_m - \\bar{x})(y_m - \\bar{y}) = \\frac{1}{n-1} \\left( \\sum_{m=1}^{n} x_m y_m - n \\bar{x} \\bar{y} \\right).\n",
    "$$\n",
    "\n",
    "$$\n",
    "s_X^2 = \\frac{1}{n-1} \\sum_{m=1}^{n} (x_m - \\bar{x})^2 = \\frac{1}{n-1} \\left( \\sum_{m=1}^{n} x_m^2 - n \\bar{x}^2 \\right),\n",
    "$$\n",
    "\n",
    "$$\n",
    "s_Y^2 = \\frac{1}{n-1} \\sum_{m=1}^{n} (y_m - \\bar{y})^2 = \\frac{1}{n-1} \\left( \\sum_{m=1}^{n} y_m^2 - n \\bar{y}^2 \\right),\n",
    "$$\n",
    "\n",
    "$$\n",
    "\\widetilde{\\rho}_{X,Y} = \\frac{\\widetilde{K}_{X,Y}}{s_X s_Y},\n",
    "$$\n",
    "</div>"
   ]
  },
  {
   "cell_type": "code",
   "execution_count": 6,
   "id": "ae36dcbd",
   "metadata": {},
   "outputs": [
    {
     "name": "stdout",
     "output_type": "stream",
     "text": [
      "Квантиль стьюдента = 2.0106347546964454\n",
      "Полученный коэффициент корреляции = 0.7250549997248051\n",
      "\n",
      "Выборочное значение статистики Z, zв = 7.294 \n",
      "7.294 > 2.011 : True => Корреляция значима\n"
     ]
    }
   ],
   "source": [
    "# Page 31 : Z ~ St(n - 2)\n",
    "\n",
    "quantile = sp.stats.t.ppf(1 - alpha/2, df=50-2)\n",
    "print(f\"Квантиль стьюдента = {quantile}\")\n",
    "\n",
    "# print(f\"{np.mean(X)} <> {sum(X) / len(X)}\")\n",
    "# print(f\"{np.mean(Y)} <> {sum(Y) / len(Y)}\")\n",
    "\n",
    "K   = 1 / (len(X) - 1) * sum([(X[i] - np.mean(X)) * (Y[i] - np.mean(Y)) for i in range(len(X))])\n",
    "sx2 = 1 / (len(X) - 1) * sum([(X[i] - np.mean(X))**2 for i in range(len(X))])\n",
    "sy2 = 1 / (len(Y) - 1) * sum([(Y[i] - np.mean(Y))**2 for i in range(len(Y))])\n",
    "\n",
    "rho =  K / (np.sqrt(sx2 * sy2))\n",
    "print(f\"Полученный коэффициент корреляции = {rho}\\n\")\n",
    "\n",
    "# comment = '''\n",
    "# print((1 - rho**2)**0.5)\n",
    "z = rho * np.sqrt(len(X) - 2) / np.sqrt(1 - rho**2) \n",
    "print(F\"Выборочное значение статистики Z, zв = {z:.5} \\n\\\n",
    "{abs(z):.5} > {quantile:.4} : {abs(z) > quantile} => \\\n",
    "{'Корреляция значима' if abs(z) > quantile else 'Нет оснований отвергать нулевую гипотезу'}\")\n",
    "# '''"
   ]
  },
  {
   "cell_type": "markdown",
   "id": "317cf9ba",
   "metadata": {},
   "source": [
    "<div style=\"font-size:18px\">\n",
    "\n",
    "$$\n",
    "u_B = \\frac{\\sqrt{n - 3}}{2} \\cdot \\ln \\left( \\frac{1 + \\widetilde{\\rho}_{X,Y}}{1 - \\widetilde{\\rho}_{X,Y}} \\right)\n",
    "$$\n",
    "</div>"
   ]
  },
  {
   "cell_type": "code",
   "execution_count": null,
   "id": "f55bff8d",
   "metadata": {},
   "outputs": [
    {
     "name": "stdout",
     "output_type": "stream",
     "text": [
      "Выборочное значение статистики U, uв = 6.295 \n",
      "6.295 > 1.96 : False => Корреляция значима\n"
     ]
    }
   ],
   "source": [
    "# Page 31-32 : При n >= 30 => U ~ N(0,1)\n",
    "\n",
    "quantile = sp.stats.norm.ppf(1 - alpha/2)\n",
    "# print(quantile)\n",
    "\n",
    "zf = 1/2 * np.log((1 + rho)/(1 - rho)) # Преобразование фишера\n",
    "u = zf * np.sqrt(len(X) - 3)         # Привод к норм. распред.\n",
    "# print(u)\n",
    "\n",
    "print(F\"Выборочное значение статистики U, uв = {u:.5} \\n\\\n",
    "{abs(u):.5} > {quantile:.4} : {abs(u) > u} => \\\n",
    "{'Корреляция значима' if abs(u) > quantile else 'Нет оснований отвергать нулевую гипотезу'}\")"
   ]
  },
  {
   "cell_type": "markdown",
   "id": "1f43779e",
   "metadata": {},
   "source": [
    "<div style=\"font-size:18px\">\n",
    "\n",
    "Доверительный интервал для $\\rho$ :\n",
    "\n",
    "$$\n",
    "\\text{th}\\left(\\frac{1}{2} \\ln \\frac{1 + \\widetilde{\\rho}}{1 - \\widetilde{\\rho}} - \\frac{u_{1-\\alpha/2}}{\\sqrt{n-3}} - \\frac{\\widetilde{\\rho}}{2(n-1)}\\right) < \\rho < \\text{th}\\left(\\frac{1}{2} \\ln \\frac{1 + \\widetilde{\\rho}}{1 - \\widetilde{\\rho}} + \\frac{u_{1-\\alpha/2}}{\\sqrt{n-3}} - \\frac{\\widetilde{\\rho}}{2(n-1)}\\right)\n",
    "$$\n",
    "</div>"
   ]
  },
  {
   "cell_type": "code",
   "execution_count": 8,
   "id": "497082dd",
   "metadata": {},
   "outputs": [
    {
     "name": "stdout",
     "output_type": "stream",
     "text": [
      "0.5545532708937084 < ρ < 0.832649309188923\n"
     ]
    }
   ],
   "source": [
    "interval_left  = np.tanh(.5 * np.log((1 + rho) / (1 - rho)) - quantile / np.sqrt(len(X) - 3) - rho / (2 * (len(X) - 1)))\n",
    "interval_right = np.tanh(.5 * np.log((1 + rho) / (1 - rho)) + quantile / np.sqrt(len(X) - 3) - rho / (2 * (len(X) - 1)))\n",
    "print(f\"{interval_left} < ρ < {interval_right}\")"
   ]
  },
  {
   "cell_type": "markdown",
   "id": "ffcb6815",
   "metadata": {},
   "source": [
    "<div style=\"font-size:18px\">\n",
    "\n",
    "Для негруппированных и группированных данных составить уравнения линейной регрессии $ Y $ на $ x $ и $ X $ на $ y $\n",
    "\n",
    "$$\n",
    "a_{0} = m_{Y} - \\rho_{X, Y} \\frac{\\sigma_{Y}}{\\sigma_{X}}m_{X}\n",
    "$$\n",
    "\n",
    "\n",
    "$$\n",
    "a_{1} = \\rho_{X, Y} \\frac{\\sigma_{Y}}{\\sigma_{X}}\n",
    "$$\n",
    "\n",
    "$$\n",
    "y(x) = a_{0} + a_{1}x\n",
    "$$\n",
    "\n",
    "$$\n",
    "x(y) = \\bar{x} + \\widetilde{\\rho}_{X,Y}\\frac{{s}_{X}}{s_{Y}}(y - \\bar{y})\n",
    "$$\n"
   ]
  },
  {
   "cell_type": "code",
   "execution_count": 9,
   "id": "54c11576",
   "metadata": {},
   "outputs": [
    {
     "data": {
      "image/png": "[encoded data removed]",
      "text/plain": [
       "<Figure size 640x480 with 1 Axes>"
      ]
     },
     "metadata": {},
     "output_type": "display_data"
    }
   ],
   "source": [
    "'''\n",
    "    Зависимость между случайными величинами X и Y называется стохастической, \n",
    "если с изменением одной из них (Х) меняется закон распределения другой (Y)\n",
    "    Регрессия Y на x даёт наилучшее (в среднеквадратическом смысле) \n",
    "предсказание величины Y по заданному значению X = x\n",
    "    На практике это свойство используется для прогноза Y по Х, \n",
    "если непосредственно наблюдаемой величиной является \n",
    "лишь компонента Х случайного вектора (X; Y)\n",
    "'''\n",
    "\n",
    "# Page 33 :\n",
    "a0 = np.mean(Y) - rho * np.std(Y) / np.std(X) * np.mean(X)\n",
    "a1 = rho * np.std(Y) / np.std(X)\n",
    "Y_x = lambda x : a0 + a1 * x \n",
    "X_y = lambda y: np.mean(X) + rho * np.sqrt(sx2) / np.sqrt(sy2) * (y - np.mean(Y))\n",
    "\n",
    "a_apostr = K / sy2 \n",
    "\n",
    "line = np.array([-10 + min(X+Y), 10 + max(X+Y)]) # +- 10 для того, чтобы линии явно выходили за границы графика\n",
    "\n",
    "plt.plot(line, Y_x(line), color=\"#8888ff\")\n",
    "plt.plot(X_y(line), line, color=\"#ccccff\")\n",
    "\n",
    "plt.scatter(X, Y, color=\"magenta\")\n",
    "\n",
    "plt.title(\"Диаграмма рассеивания, с линейной регрессией\")\n",
    "plt.xlabel(\"X\")\n",
    "plt.ylabel(\"Y\")\n",
    "plt.xlim((min(X) - 1, max(X) + 1))\n",
    "plt.ylim((min(Y) - 1, max(Y) + 2))\n",
    "[plt.axvline(i, color=\"k\", alpha=.3) for i in np.linspace(np.floor(min(X)), np.ceil(max(X)), 5)]\n",
    "[plt.axhline(i, color=\"k\", alpha=.3) for i in np.linspace(np.floor(min(Y)), np.ceil(max(Y)), 5)]\n",
    "\n",
    "plt.show()\n"
   ]
  },
  {
   "cell_type": "markdown",
   "id": "53bedf0d",
   "metadata": {},
   "source": [
    "<div style=\"font-size:18px\">\n",
    "\n",
    "- для негруппированных данных по найденным оценкам параметров линейной регрессии $ Y $ на $ x $:\n",
    "  - получить оценку $ s^2 $ для дисперсии ошибок наблюдений $ \\sigma^2 $,\n",
    "  - найти коэффициент детерминации $ R^2 $,\n",
    "  - построить доверительные интервалы для параметров регрессии $ a $ и $ b $,\n",
    "  - дисперсии ошибок наблюдений $ \\sigma^2 $,\n",
    "  - среднего значения $ Y $ при $ x = x_0 $;\n",
    "\n",
    "</div>"
   ]
  },
  {
   "cell_type": "markdown",
   "id": "2bb502b0",
   "metadata": {},
   "source": [
    "<div style=\"font-size:18px\">\n",
    "\n",
    "$$\n",
    "$$\n",
    "\n",
    "Качество аппроксимации результатов наблюдений ( $x_i$; $y_i$ ) i = 1, 2, ... , n , выборочной регрессией $y = \\tilde{a}x + \\tilde{b}$ (ограничимся далее регрессией Y на x) определяется величиной остаточной дисперсии $s^2$, вычисляемой по формуле:\n",
    "\n",
    "$$\n",
    "s^2 = \\frac{Q_e}{n-2}\n",
    "$$\n",
    "\n",
    "$Q_e$ - остаточная сумма квадратов:\n",
    "\n",
    "$$\n",
    "Q_e = \\sum_{i=1}^{n} (y_i - \\widetilde{y}_i)^2\n",
    "$$\n",
    "\n",
    "</div>"
   ]
  },
  {
   "cell_type": "code",
   "execution_count": 10,
   "id": "c1b06a67",
   "metadata": {},
   "outputs": [
    {
     "name": "stdout",
     "output_type": "stream",
     "text": [
      "Остаточная дисперсия = 35.851838148104285\n"
     ]
    }
   ],
   "source": [
    "Qe = sum([(Y[i] - Y_x(X[i]))**2 for i in range(len(Y))])\n",
    "s2 = Qe / (len(Y) - 2)\n",
    "\n",
    "print(f\"Остаточная дисперсия = {s2}\")"
   ]
  },
  {
   "cell_type": "markdown",
   "id": "35d5b913",
   "metadata": {},
   "source": [
    "<div style=\"font-size:18px\">\n",
    "\n",
    "$$\n",
    "\\widetilde{a} = \\frac{\\widetilde{K}_{X,Y}}{s_X^2} = \\widetilde{\\rho}_{X,Y} \\cdot \\frac{s_Y}{s_X}; \\quad \\widetilde{b} = \\bar{y} - \\bar{x} \\cdot \\widetilde{\\rho}_{X,Y} \\cdot \\frac{s_Y}{s_X}\n",
    "$$\n",
    "\n",
    "$$\n",
    "\\widetilde{y}_i = \\widetilde{a} x_i + \\widetilde{b}\n",
    "$$\n",
    "\n",
    "$$\n",
    "Q_y = \\sum_{i=1}^{n} (y_i - \\bar{y})^2\n",
    "$$\n",
    "\n",
    "$$\n",
    "Q_R = \\sum_{i=1}^{n} (\\widetilde{y}_i - \\bar{y})^2\n",
    "$$\n",
    "\n",
    "Коэффициент детерминации $R^2$ равен той доле разброса результатов наблюдений ( $x_i$; $y_i$ ) i = 1, 2, ... , n , относительно горизонтальной прямой $y = \\tilde{y}$, которая объясняется выборочной регрессией $y = \\tilde{a}x + \\tilde{b}$\n",
    "</div>"
   ]
  },
  {
   "cell_type": "code",
   "execution_count": 11,
   "id": "2b063349",
   "metadata": {},
   "outputs": [
    {
     "name": "stdout",
     "output_type": "stream",
     "text": [
      "Коэффициент детерминации = 0.5257047526259373\n",
      "sqrt(R2) * sign(a) = rho : 0.725055 = 0.725055\n"
     ]
    }
   ],
   "source": [
    "a_tilde = K / sx2\n",
    "b_tilde = np.mean(Y) - np.mean(X) * rho * np.sqrt(sy2 / sx2)\n",
    "\n",
    "Qy = sum([(Y[i] - sum(Y) / len(Y))**2 for i in range(len(Y))])\n",
    "QR = sum([(Y_x(X[i]) - np.mean(Y))**2 for i in range(len(Y))])\n",
    "\n",
    "\n",
    "R2 = QR / Qy\n",
    "\n",
    "print(f\"Коэффициент детерминации = {R2}\")\n",
    "print(f\"sqrt(R2) * sign(a) = rho : {np.sqrt(R2):.6f} = {rho:.6f}\")"
   ]
  },
  {
   "cell_type": "markdown",
   "id": "a6a5b5b6",
   "metadata": {},
   "source": [
    "<div style=\"font-size:18px\">\n",
    "\n",
    "$$\n",
    "S^2_{X} = \\frac{1}{n-1} \\sum_{i=1}^{n} (x_i - \\bar{x})^2\n",
    "$$\n",
    "\n",
    "$$\n",
    "\\widetilde{a} - t_{1-\\frac{\\alpha}{2}}(n-2) \\cdot \\sqrt{\\frac{S^2}{(n-1) \\cdot S_X^2}} < a < \\widetilde{a} + t_{1-\\frac{\\alpha}{2}}(n-2) \\cdot \\sqrt{\\frac{S^2}{(n-1) \\cdot S_X^2}}\n",
    "$$\n",
    "\n",
    "$$\n",
    "\\widetilde{b} - t_{1-\\frac{\\alpha}{2}}(n-2) \\cdot \\sqrt{\\frac{S^2 \\cdot \\sum x_i^2}{n(n-1) \\cdot S_X^2}} < b < \\widetilde{b} + t_{1-\\frac{\\alpha}{2}}(n-2) \\cdot \\sqrt{\\frac{S^2 \\cdot \\sum x_i^2}{n(n-1) \\cdot S_X^2}}\n",
    "$$\n",
    "\n",
    "$$\n",
    "\\frac{(n-2) \\cdot S^2}{\\chi_{1-\\frac{\\alpha}{2}}^2(n-2)} < \\sigma^2 < \\frac{(n-2) \\cdot S^2}{\\chi_{\\frac{\\alpha}{2}}^2(n-2)}\n",
    "$$\n",
    "</div>"
   ]
  },
  {
   "cell_type": "code",
   "execution_count": 12,
   "id": "b1bff5e5",
   "metadata": {},
   "outputs": [
    {
     "name": "stdout",
     "output_type": "stream",
     "text": [
      "Доверительный интервал для а: \n",
      "1.3403185602722019 < a < 2.3604558204606105\n",
      "\n",
      "Доверительный интервал для b: \n",
      "-11.833854648388224 < b < 29.50874680855405\n",
      "\n",
      "Доверительный интервал для σ: \n",
      "207.13669948363514 < σ < 310.31179881297874\n"
     ]
    }
   ],
   "source": [
    "SX2 = 1 / (len(X) - 1) * sum([(X[i] - np.mean(X))**2 for i in range(len(X))])\n",
    "\n",
    "student_quantile = sp.stats.t.ppf(1 - alpha / 2, df = 50 - 2)\n",
    "\n",
    "interval_left  = a_tilde - student_quantile * np.sqrt(s2 / ((len(X) - 1) * SX2))\n",
    "interval_right = a_tilde + student_quantile * np.sqrt(s2 / ((len(X) - 1) * SX2))\n",
    "\n",
    "print(f\"Доверительный интервал для а: \\n{interval_left} < a < {interval_right}\\n\")\n",
    "\n",
    "#################\n",
    "\n",
    "interval_left  = b_tilde - student_quantile * np.sqrt(s2 * sum([X[i]**2 for i in range(len(X))]) / ((len(X) - 1) * SX2))\n",
    "interval_right = b_tilde + student_quantile * np.sqrt(s2 * sum([X[i]**2 for i in range(len(X))]) / ((len(X) - 1) * SX2))\n",
    "\n",
    "print(f\"Доверительный интервал для b: \\n{interval_left} < b < {interval_right}\\n\")\n",
    "\n",
    "#################\n",
    "\n",
    "xhi_quantile1 = sp.stats.chi.ppf(1 - alpha / 2, df = 50 - 2)\n",
    "xhi_quantile2 = sp.stats.chi.ppf(alpha / 2, df = 50 - 2)\n",
    "\n",
    "interval_left = (len(X) - 2) * s2 / xhi_quantile1\n",
    "interval_right = (len(X) - 2) * s2 / xhi_quantile2\n",
    "\n",
    "print(f\"Доверительный интервал для σ: \\n{interval_left} < σ < {interval_right}\")"
   ]
  },
  {
   "cell_type": "markdown",
   "id": "1c02329e",
   "metadata": {},
   "source": [
    "<div style=\"font-size:18px\">\n",
    "\n",
    "$$\n",
    "\\bar{y} \\pm t_{1-\\frac{\\alpha}{2}}(n-2) \\cdot s^2 \\cdot \\sqrt{\\frac{1}{n} + \\frac{(x - \\bar{x})^2}{\\sum_{i=1}^{n}(x_i - \\bar{x})^2}}\n",
    "$$"
   ]
  },
  {
   "cell_type": "code",
   "execution_count": 13,
   "id": "68eaf864",
   "metadata": {},
   "outputs": [
    {
     "data": {
      "image/png": "[encoded data removed]",
      "text/plain": [
       "<Figure size 640x480 with 1 Axes>"
      ]
     },
     "metadata": {},
     "output_type": "display_data"
    }
   ],
   "source": [
    "line = np.array([-10 + min(X+Y), 10 + max(X+Y)])\n",
    "nline = np.linspace(-10 + min(X+Y), 10 + max(X+Y), 100)\n",
    "\n",
    "plt.plot(nline, [Y_x(i) + student_quantile * np.sqrt(s2) * np.sqrt(1 / len(X) + (i - np.mean(X))**2 / sum([(X[j] - np.mean(X))**2 for j in range(len(X))])) for i in nline]\n",
    "         , color=\"green\", linestyle=\"dashed\")\n",
    "plt.plot(nline, [Y_x(i) - student_quantile * np.sqrt(s2) * np.sqrt(1 / len(X) + (i - np.mean(X))**2 / sum([(X[j] - np.mean(X))**2 for j in range(len(X))])) for i in nline]\n",
    "         , color=\"green\", linestyle=\"dashed\")\n",
    "\n",
    "plt.plot(line, Y_x(line), color=\"blue\")\n",
    "plt.scatter(X, Y, color=\"magenta\")\n",
    "\n",
    "plt.title(\"Диаграмма рассеивания, с линейной регрессией\")\n",
    "plt.xlabel(\"X\")\n",
    "plt.ylabel(\"Y\")\n",
    "plt.xlim((min(X) - 1, max(X) + 1))\n",
    "plt.ylim((min(Y) - 1, max(Y) + 2))\n",
    "[plt.axvline(i, color=\"k\", alpha=.3) for i in np.linspace(np.floor(min(X)), np.ceil(max(X)), 5)]\n",
    "[plt.axhline(i, color=\"k\", alpha=.3) for i in np.linspace(np.floor(min(Y)), np.ceil(max(Y)), 5)]\n",
    "\n",
    "plt.show()"
   ]
  },
  {
   "cell_type": "markdown",
   "id": "15a2a810",
   "metadata": {},
   "source": [
    "<div style=\"font-size:18px\">\n",
    "\n",
    "$$\n",
    "t = \\frac{b}{S E_b}\n",
    "$$\n",
    "\n",
    "$$\n",
    "SE_b = \\sqrt{\\frac{S^2}{\\sum_{i=1}^{n} (x_i - \\bar{x})^2}}\n",
    "$$\n",
    "\n",
    "$$\n",
    "b = r \\cdot \\frac{s_Y}{s_X}\n",
    "$$\n",
    "\n",
    "</div>"
   ]
  },
  {
   "cell_type": "code",
   "execution_count": 14,
   "id": "094fc5b7",
   "metadata": {},
   "outputs": [
    {
     "name": "stdout",
     "output_type": "stream",
     "text": [
      "t статистика регрессии, t = 7.294 \n",
      "7.294 > 2.011 : True => Регрессия значима и адекватна\n"
     ]
    }
   ],
   "source": [
    "b_stat = rho * np.std(Y) / np.std(X)\n",
    "\n",
    "SEb = np.sqrt(s2 / sum([(X[i] - np.mean(X))**2 for i in range(len(X))]))\n",
    "\n",
    "t_stat = b_stat / SEb\n",
    "\n",
    "# print(t_stat)\n",
    "\n",
    "print(F\"t статистика регрессии, t = {t_stat:.5} \\n\\\n",
    "{t_stat:.5} > {student_quantile:.4} : {t_stat > student_quantile} => \\\n",
    "{'Регрессия значима и адекватна' if t_stat > student_quantile else 'Нет оснований отвергать нулевую гипотезу'}\")\n"
   ]
  },
  {
   "cell_type": "markdown",
   "id": "d1be7f35",
   "metadata": {},
   "source": [
    "<div style=\"font-size:18px\">\n",
    "\n",
    "$$\n",
    "t = \\frac{\\bar{x} - \\bar{y}}{\\sqrt{\\frac{s_X^2}{n_X} + \\frac{s_Y^2}{n_Y}}}\n",
    "$$\n",
    "\n",
    "</div>"
   ]
  },
  {
   "cell_type": "code",
   "execution_count": 15,
   "id": "c9efcd49",
   "metadata": {},
   "outputs": [
    {
     "name": "stdout",
     "output_type": "stream",
     "text": [
      "t статистика мат ожиданий, t = -9.8922 \n",
      "9.8922 > 2.011 : True => Мат ожидания различны\n"
     ]
    }
   ],
   "source": [
    "t_stat2 = (np.mean(X) - np.mean(Y)) / np.sqrt(np.var(X) / len(X) + np.var(Y) / len(Y))\n",
    "\n",
    "print(F\"t статистика мат ожиданий, t = {t_stat2:.5} \\n\\\n",
    "{abs(t_stat2):.5} > {student_quantile:.4} : {abs(t_stat) > student_quantile} => \\\n",
    "{'Мат ожидания различны' if abs(t_stat) > student_quantile else 'Нет оснований отвергать нулевую гипотезу'}\")"
   ]
  },
  {
   "cell_type": "code",
   "execution_count": 16,
   "id": "85760ea1",
   "metadata": {},
   "outputs": [
    {
     "name": "stdout",
     "output_type": "stream",
     "text": [
      "Таблица частот группировок по X и по Y\n"
     ]
    },
    {
     "data": {
      "text/html": [
       "<div>\n",
       "<style scoped>\n",
       "    .dataframe tbody tr th:only-of-type {\n",
       "        vertical-align: middle;\n",
       "    }\n",
       "\n",
       "    .dataframe tbody tr th {\n",
       "        vertical-align: top;\n",
       "    }\n",
       "\n",
       "    .dataframe thead th {\n",
       "        text-align: right;\n",
       "    }\n",
       "</style>\n",
       "<table border=\"1\" class=\"dataframe\">\n",
       "  <thead>\n",
       "    <tr style=\"text-align: right;\">\n",
       "      <th></th>\n",
       "      <th>-0.25</th>\n",
       "      <th>3.25</th>\n",
       "      <th>6.75</th>\n",
       "      <th>10.25</th>\n",
       "      <th>(X-&gt;) ni</th>\n",
       "    </tr>\n",
       "  </thead>\n",
       "  <tbody>\n",
       "    <tr>\n",
       "      <th>(Y ^) nj</th>\n",
       "      <td>9</td>\n",
       "      <td>20</td>\n",
       "      <td>15</td>\n",
       "      <td>6</td>\n",
       "      <td>50</td>\n",
       "    </tr>\n",
       "    <tr>\n",
       "      <th>29.375</th>\n",
       "      <td>0</td>\n",
       "      <td>1</td>\n",
       "      <td>5</td>\n",
       "      <td>4</td>\n",
       "      <td>10</td>\n",
       "    </tr>\n",
       "    <tr>\n",
       "      <th>22.125</th>\n",
       "      <td>0</td>\n",
       "      <td>6</td>\n",
       "      <td>6</td>\n",
       "      <td>1</td>\n",
       "      <td>13</td>\n",
       "    </tr>\n",
       "    <tr>\n",
       "      <th>14.875</th>\n",
       "      <td>3</td>\n",
       "      <td>6</td>\n",
       "      <td>4</td>\n",
       "      <td>1</td>\n",
       "      <td>14</td>\n",
       "    </tr>\n",
       "    <tr>\n",
       "      <th>7.625</th>\n",
       "      <td>6</td>\n",
       "      <td>7</td>\n",
       "      <td>0</td>\n",
       "      <td>0</td>\n",
       "      <td>13</td>\n",
       "    </tr>\n",
       "  </tbody>\n",
       "</table>\n",
       "</div>"
      ],
      "text/plain": [
       "          -0.25  3.25  6.75  10.25  (X->) ni\n",
       "(Y ^) nj      9    20    15      6        50\n",
       "29.375        0     1     5      4        10\n",
       "22.125        0     6     6      1        13\n",
       "14.875        3     6     4      1        14\n",
       "7.625         6     7     0      0        13"
      ]
     },
     "execution_count": 16,
     "metadata": {},
     "output_type": "execute_result"
    }
   ],
   "source": [
    "data = [[0 for _ in range(5)] for _ in range(5)]\n",
    "\n",
    "intervals_x = np.linspace(-2, 12, 5)\n",
    "intervals_y = np.linspace(4, 33, 5)\n",
    "\n",
    "for i in range(len(intervals_x) - 1):\n",
    "    for j in range(len(intervals_y) - 1):\n",
    "        for k in range(50):            \n",
    "            if (intervals_x[i] <= X[k] < intervals_x[i + 1]) and (intervals_y[j] <= Y[k] < intervals_y[j + 1]):\n",
    "                data [i][j] += 1\n",
    "\n",
    "for i in range(4):\n",
    "    data[i][4] = sum(data[i])\n",
    "for j in range(5):\n",
    "    data[4][j] = sum([data[i][j] for i in range(4)]) \n",
    "\n",
    "print(\"Таблица частот группировок по X и по Y\")\n",
    "pd.DataFrame(data, \n",
    "             index=[str((intervals_x[i]+intervals_x[i+1])/2) for i in range(len(intervals_x)-1)]+['(X->) ni'], \n",
    "             columns=[str((intervals_y[i]+intervals_y[i+1])/2) for i in range(len(intervals_y)-1)]+['(Y ^) nj']).T.iloc[::-1]\n"
   ]
  },
  {
   "cell_type": "code",
   "execution_count": null,
   "id": "a2122883",
   "metadata": {},
   "outputs": [],
   "source": []
  }
 ],
 "metadata": {
  "kernelspec": {
   "display_name": "Python 3",
   "language": "python",
   "name": "python3"
  },
  "language_info": {
   "codemirror_mode": {
    "name": "ipython",
    "version": 3
   },
   "file_extension": ".py",
   "mimetype": "text/x-python",
   "name": "python",
   "nbconvert_exporter": "python",
   "pygments_lexer": "ipython3",
   "version": "3.10.11"
  }
 },
 "nbformat": 4,
 "nbformat_minor": 5
}
