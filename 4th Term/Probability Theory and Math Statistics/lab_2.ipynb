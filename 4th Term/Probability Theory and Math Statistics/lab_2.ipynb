{
 "cells": [
  {
   "cell_type": "code",
   "execution_count": 35,
   "id": "892f41bc",
   "metadata": {},
   "outputs": [
    {
     "name": "stdout",
     "output_type": "stream",
     "text": [
      "[1, 3, 3, 4, 4, 4, 4, 4, 4, 4, 5, 5, 5, 5, 6, 6, 6, 6, 6, 6, 6, 7, 7, 7, 7, 7, 7, 7, 7, 8, 8, 8, 8, 8, 8, 8, 8, 8, 9, 9, 9, 9, 10, 10, 10, 10, 10, 11, 12, 12]\n"
     ]
    }
   ],
   "source": [
    "raw_data = [4 , 9 , 6 , 7 , 10 , \n",
    "     6 , 8 , 3 , 8 , 7 , \n",
    "     1 , 3 , 10 , 10 , 6 , \n",
    "     8 , 8 , 9 , 6 , 8 , \n",
    "     7 , 7 , 8 , 7 , 10 , \n",
    "     7 , 5 , 9 , 8 , 4 , \n",
    "     8 , 11 , 4 , 10 , 9 , \n",
    "     12 , 12 , 4 , 4 , 5 , \n",
    "     6 , 7 , 5 , 4 , 7 , \n",
    "     6 , 6 , 4 , 8 , 5]\n",
    "\n",
    "print(sorted(raw_data))\n"
   ]
  },
  {
   "cell_type": "code",
   "execution_count": 36,
   "id": "dfe5931f",
   "metadata": {},
   "outputs": [],
   "source": [
    "import numpy as np\n",
    "import scipy as sp\n",
    "import matplotlib.pyplot as plt"
   ]
  },
  {
   "cell_type": "code",
   "execution_count": 37,
   "id": "8b0c7f63",
   "metadata": {},
   "outputs": [
    {
     "name": "stdout",
     "output_type": "stream",
     "text": [
      "[3.458211947934116, 4.097343607621439] [0.0788566774630732, 0.6343517662103462] [0.28081431135729745, 0.7964620306143577]\n",
      "[5.0, 5.0] [0.0, 0.0] [0.0, 0.0]\n",
      "[6.257058560579413, 6.8096081060872535] [0.13340676808408042, 0.6190467222348426] [0.36524891250225566, 0.7867952225546636]\n",
      "[8.0, 8.0] [0.0, 0.0] [0.0, 0.0]\n",
      "[9.173601333160724, 9.937509777950387] [0.11265239637581885, 0.9062168088719229] [0.33563729884477805, 0.951954205238846]\n",
      "[10.495632919036032, 12.8377004142973] [0.06024111792929263, 8.777308934490483] [0.2454406607090452, 2.9626523478954603]\n",
      "[6.2359410624656375, 7.604058937534362] [4.042675060312857, 8.996582207272462] [2.010640460229739, 2.999430313788347]\n"
     ]
    }
   ],
   "source": [
    "nums = sorted(raw_data)\n",
    "\n",
    "x1 = min(nums)\n",
    "x50 = max(nums)\n",
    "\n",
    "w = x50 - x1 # Размах выборки\n",
    "\n",
    "intervals = [x1 + i*w/7 for i in range(8)]  # Интервалы чисел после разбиения\n",
    "\n",
    "cnts = [0] * 7\n",
    "nums_by_intervals = {}\n",
    "\n",
    "for i in range(7):  # В каждый интервал пихаем числа из этого интервала\n",
    "    nums_by_intervals[i] = []\n",
    "    for j in nums:\n",
    "        if (intervals[i] <= j < intervals[i + 1] and i != 6) or \\\n",
    "           (intervals[i] <= j <= intervals[i + 1] and i == 6):\n",
    "            cnts[i] += 1\n",
    "            nums_by_intervals[i].append(j)\n",
    "\n",
    "# print(nums_by_intervals[0])\n",
    "\n",
    "p = .95  # Коэффицент доверительной вероятности - дан в лабе\n",
    "alpha = 1 - p\n",
    "\n",
    "Ms = []\n",
    "sigmas = []\n",
    "Ds = []\n",
    "for i in range(8):\n",
    "    if i != 7: \n",
    "        current_nums = nums_by_intervals[i]\n",
    "    else:\n",
    "        current_nums = nums\n",
    "    if len(current_nums) in [0, 1]:\n",
    "        Ms.append([None, None])\n",
    "        Ds.append([None, None])\n",
    "        sigmas.append([None, None])\n",
    "        continue\n",
    "\n",
    "    \n",
    "    M = np.mean(current_nums)\n",
    "    sigma = np.std(current_nums)\n",
    "    f = len(current_nums) - 1 # Количество степеней свободы\n",
    "    \n",
    "    # Procentile points function - PPF\n",
    "    # Страница 17 -> формула\n",
    "    t_critical = sp.stats.t.ppf(1 - alpha/2, df=f) # Критическое значение распределения Стьюдента при заданном доверии\n",
    "    # t_{1 - alpha/2}\n",
    "\n",
    "    M_margin = t_critical * sigma / np.sqrt(len(current_nums)) # Погрешность среднего (Мат ожидания)\n",
    "\n",
    "    trusted_interval = [M - M_margin, M + M_margin] # Доверительный интервал для среднего\n",
    "    # print(trusted_interval)\n",
    "\n",
    "    #Доверительеый интервал для диспресии\n",
    "    D_interval = [f * sigma**2 / sp.stats.chi2.ppf(1 - alpha/2, df=f), f * sigma**2 / sp.stats.chi2.ppf(alpha/2, df=f)] \n",
    "\n",
    "    sigma_interval = list(map(np.sqrt, D_interval))\n",
    "\n",
    "    Ms.append(trusted_interval)\n",
    "    Ds.append(D_interval)\n",
    "    sigmas.append(sigma_interval)\n",
    "\n",
    "    print(trusted_interval, D_interval, sigma_interval)\n",
    "\n"
   ]
  },
  {
   "cell_type": "code",
   "execution_count": 38,
   "id": "1b2f8cd0",
   "metadata": {},
   "outputs": [
    {
     "name": "stdout",
     "output_type": "stream",
     "text": [
      "┏━━━━━━━━━━━━━━━━━━━━━━━┳━━━━━━━━━━━━━━━━┳━━━━━━━━━━━━━━━━┳━━━━━━━━━━━━━━━━┳━━━━━━━━━━━━━━━━┳━━━━━━━━━━━━━━━━┳━━━━━━━━━━━━━━━━┳━━━━━━━━━━━━━━━━┳━━━━━━━━━━━━━━━━┓\n",
      "┃       Интервалы       ┃  [1.00; 2.57)  ┃  [2.57; 4.14)  ┃  [4.14; 5.71)  ┃  [5.71; 7.29)  ┃  [7.29; 8.86)  ┃  [8.86; 10.43) ┃ [10.43; 12.00] ┃  [1.00; 12.00] ┃\n",
      "┣━━━━━━━━━━━━━━━━━━━━━━━╋━━━━━━━━━━━━━━━━╋━━━━━━━━━━━━━━━━╋━━━━━━━━━━━━━━━━╋━━━━━━━━━━━━━━━━╋━━━━━━━━━━━━━━━━╋━━━━━━━━━━━━━━━━╋━━━━━━━━━━━━━━━━╋━━━━━━━━━━━━━━━━┫\n",
      "┃     Мат. ожидание     ┃   [ - ;  - ]   ┃  [3.46; 4.10]  ┃  [5.00; 5.00]  ┃  [6.26; 6.81]  ┃  [8.00; 8.00]  ┃  [9.17; 9.94]  ┃ [10.50; 12.84] ┃  [6.24; 7.60]  ┃\n",
      "┣━━━━━━━━━━━━━━━━━━━━━━━╋━━━━━━━━━━━━━━━━╋━━━━━━━━━━━━━━━━╋━━━━━━━━━━━━━━━━╋━━━━━━━━━━━━━━━━╋━━━━━━━━━━━━━━━━╋━━━━━━━━━━━━━━━━╋━━━━━━━━━━━━━━━━╋━━━━━━━━━━━━━━━━┫\n",
      "┃  Среднее отклонение   ┃   [ - ;  - ]   ┃  [0.28; 0.80]  ┃  [0.00; 0.00]  ┃  [0.37; 0.79]  ┃  [0.00; 0.00]  ┃  [0.34; 0.95]  ┃  [0.25; 2.96]  ┃  [2.01; 3.00]  ┃\n",
      "┣━━━━━━━━━━━━━━━━━━━━━━━╋━━━━━━━━━━━━━━━━╋━━━━━━━━━━━━━━━━╋━━━━━━━━━━━━━━━━╋━━━━━━━━━━━━━━━━╋━━━━━━━━━━━━━━━━╋━━━━━━━━━━━━━━━━╋━━━━━━━━━━━━━━━━╋━━━━━━━━━━━━━━━━┫\n",
      "┃ Дисперсное отклонение ┃   [ - ;  - ]   ┃  [0.08; 0.63]  ┃  [0.00; 0.00]  ┃  [0.13; 0.62]  ┃  [0.00; 0.00]  ┃  [0.11; 0.91]  ┃  [0.06; 8.78]  ┃  [4.04; 9.00]  ┃\n",
      "┗━━━━━━━━━━━━━━━━━━━━━━━┻━━━━━━━━━━━━━━━━┻━━━━━━━━━━━━━━━━┻━━━━━━━━━━━━━━━━┻━━━━━━━━━━━━━━━━┻━━━━━━━━━━━━━━━━┻━━━━━━━━━━━━━━━━┻━━━━━━━━━━━━━━━━┻━━━━━━━━━━━━━━━━┛\n"
     ]
    }
   ],
   "source": [
    "intervalvals = ''\n",
    "Mvals = ''\n",
    "sigmavals = ''\n",
    "Dvals = ''\n",
    "for i in range(8):\n",
    "    if i != 7:\n",
    "        l = f\"{intervals[i]:2.2f}\"\n",
    "        r = f\"{intervals[i + 1]:2.2f}\"\n",
    "    else:\n",
    "        l = f\"{intervals[0]:2.2f}\"\n",
    "        r = f\"{intervals[-1]:2.2f}\"\n",
    "    intervalvals += f\"┃{'['+l:>7}; {r+')' if i < 6 else r+']':<7}\"\n",
    "\n",
    "    if Ms[i][0] is not None:\n",
    "        l = f\"{Ms[i][0]:2.2f}\"\n",
    "        r = f\"{Ms[i][1]:2.2f}\"\n",
    "    else:\n",
    "        l = f\"{'-':^3}\"\n",
    "        r = f\"{'-':^3}\"\n",
    "    Mvals += f\"┃{'['+l:>7}; {r+']':<7}\"\n",
    "\n",
    "    if sigmas[i][0] is not None:\n",
    "        l = f\"{sigmas[i][0]:2.2f}\"\n",
    "        r = f\"{sigmas[i][1]:2.2f}\"\n",
    "    else:\n",
    "        l = f\"{'-':^3}\"\n",
    "        r = f\"{'-':^3}\"\n",
    "    sigmavals += f\"┃{'['+l:>7}; {r+']':<7}\"\n",
    "\n",
    "    if Ds[i][0] is not None:\n",
    "        l = f\"{Ds[i][0]:2.2f}\"\n",
    "        r = f\"{Ds[i][1]:2.2f}\"\n",
    "    else:\n",
    "        l = f\"{'-':^3}\"\n",
    "        r = f\"{'-':^3}\"\n",
    "    Dvals += f\"┃{'['+l:>7}; {r+']':<7}\"\n",
    "\n",
    "print(f\"┏{'━'*23}{('┳'+'━'*16)*8}┓\")\n",
    "print(f\"┃{'Интервалы':^23}{intervalvals}┃\")\n",
    "print(f\"┣{'━'*23}{('╋'+'━'*16)*8}┫\")\n",
    "print(f\"┃{'Мат. ожидание':^23}{Mvals}┃\")\n",
    "print(f\"┣{'━'*23}{('╋'+'━'*16)*8}┫\")\n",
    "print(f\"┃{'Среднее отклонение':^23}{sigmavals}┃\")\n",
    "print(f\"┣{'━'*23}{('╋'+'━'*16)*8}┫\")\n",
    "print(f\"┃{'Дисперсное отклонение':^23}{Dvals}┃\")\n",
    "print(f\"┗{'━'*23}{('┻'+'━'*16)*8}┛\")"
   ]
  },
  {
   "cell_type": "markdown",
   "id": "42037dd4",
   "metadata": {},
   "source": [
    "### Проверить гипотезы \n",
    "\n",
    "1. $ H_0^{(1)}: m_X = M_0 $  \n",
    "2. $ H_0^{(2)}: D_X = A_0 $\n",
    "\n",
    "где:  \n",
    "- $ M_0 = \\bar{x} + 0.5s $  \n",
    "- $ A_0 = 2s^2 $"
   ]
  },
  {
   "cell_type": "markdown",
   "id": "9f1ea2ab",
   "metadata": {},
   "source": [
    "#### Первая гипотеза\n",
    "$ H_0^{(1)}: m_X = \\bar{x} + 0.5s $ "
   ]
  },
  {
   "cell_type": "code",
   "execution_count": 44,
   "id": "9ece032c",
   "metadata": {},
   "outputs": [
    {
     "name": "stdout",
     "output_type": "stream",
     "text": [
      "1 | True | 3.4582 <= 3.7778 + 0.5 * 0.4157 = 3.9856 <= 4.0973\n",
      "2 | True | 5.0000 <= 5.0000 + 0.5 * 0.0000 = 5.0000 <= 5.0000\n",
      "3 | True | 6.2571 <= 6.5333 + 0.5 * 0.4989 = 6.7828 <= 6.8096\n",
      "4 | True | 8.0000 <= 8.0000 + 0.5 * 0.0000 = 8.0000 <= 8.0000\n",
      "5 | True | 9.1736 <= 9.5556 + 0.5 * 0.4969 = 9.8040 <= 9.9375\n",
      "6 | True | 10.4956 <= 11.6667 + 0.5 * 0.4714 = 11.9024 <= 12.8377\n"
     ]
    }
   ],
   "source": [
    "for i in range(7):\n",
    "    if Ms[i][0] is not None:\n",
    "        print(f\"{i} | {Ms[i][0] <= np.mean(nums_by_intervals[i]) + 0.5 * np.std(nums_by_intervals[i]) <= Ms[i][1]} \" +\n",
    "              f\"| {Ms[i][0]:6.4f} <= {np.mean(nums_by_intervals[i]):6.4f} + 0.5 * {np.std(nums_by_intervals[i]):6.4f} = {np.mean(nums_by_intervals[i]) + 0.5 * np.std(nums_by_intervals[i]):6.4f} <= {Ms[i][1]:6.4f}\")"
   ]
  },
  {
   "cell_type": "markdown",
   "id": "724d0d86",
   "metadata": {},
   "source": [
    "#### Вторая гипотеза\n",
    "$ H_0^{(2)}: D_X = 2s^2 $"
   ]
  },
  {
   "cell_type": "code",
   "execution_count": 40,
   "id": "84a24e00",
   "metadata": {},
   "outputs": [
    {
     "name": "stdout",
     "output_type": "stream",
     "text": [
      "1 | True | 0.0789 <= 0.3457 <= 0.6344\n",
      "2 | True | 0.0000 <= 0.0000 <= 0.0000\n",
      "3 | True | 0.1334 <= 0.4978 <= 0.6190\n",
      "4 | True | 0.0000 <= 0.0000 <= 0.0000\n",
      "5 | True | 0.1127 <= 0.4938 <= 0.9062\n",
      "6 | True | 0.0602 <= 0.4444 <= 8.7773\n"
     ]
    }
   ],
   "source": [
    "for i in range(7):\n",
    "    if Ds[i][0] is not None:\n",
    "        print(f\"{i} | {Ds[i][0] <= 2 * np.std(nums_by_intervals[i])**2 <= Ds[i][1]} \" +\n",
    "              f\"| {Ds[i][0]:6.4f} <= {2 * np.std(nums_by_intervals[i])**2:6.4f} <= {Ds[i][1]:6.4f}\")"
   ]
  },
  {
   "cell_type": "code",
   "execution_count": 47,
   "id": "8f319691",
   "metadata": {},
   "outputs": [
    {
     "name": "stdout",
     "output_type": "stream",
     "text": [
      "9.225571763405675\n",
      "Нулевая гипотеза верна: χ² = 9.226 < 9.488\n"
     ]
    }
   ],
   "source": [
    "observed_freqs, _ = np.histogram(nums, bins=intervals)\n",
    "# print(observed_freqs)\n",
    "\n",
    "# Cumulative distribution function - просто функция распределения\n",
    "cdf = sp.stats.norm(np.mean(nums), np.std(nums, ddof=1)).cdf(intervals)\n",
    "expected = np.diff(cdf) * len(nums)\n",
    "# print(expected)\n",
    "\n",
    "xi2 = np.sum((observed_freqs - expected)**2 / expected )\n",
    "print(xi2)\n",
    "\n",
    "xi2_critical = sp.stats.chi2.ppf(1 - .05 , 7 - 1 - 2) # df = n - 1 - число оцененных параметров\n",
    "\n",
    "if xi2 < xi2_critical:\n",
    "    print(f\"Нулевая гипотеза верна: χ² = {xi2:.3f} < {xi2_critical:.3f}\")\n",
    "else:\n",
    "    print(f\"Нулевая гипотеза неверна: χ² = {xi2:.3f} ≥ {xi2_critical:.3f}\")"
   ]
  },
  {
   "cell_type": "code",
   "execution_count": null,
   "id": "437a8f90",
   "metadata": {},
   "outputs": [],
   "source": []
  }
 ],
 "metadata": {
  "kernelspec": {
   "display_name": "Python 3",
   "language": "python",
   "name": "python3"
  },
  "language_info": {
   "codemirror_mode": {
    "name": "ipython",
    "version": 3
   },
   "file_extension": ".py",
   "mimetype": "text/x-python",
   "name": "python",
   "nbconvert_exporter": "python",
   "pygments_lexer": "ipython3",
   "version": "3.10.11"
  }
 },
 "nbformat": 4,
 "nbformat_minor": 5
}
