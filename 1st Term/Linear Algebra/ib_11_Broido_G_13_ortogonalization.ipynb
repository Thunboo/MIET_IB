{
 "cells": [
  {
   "cell_type": "code",
   "execution_count": 1,
   "metadata": {},
   "outputs": [
    {
     "data": {
      "text/plain": [
       "'\\na1(2,1, 3,-1)\\na2(1,1,-6, 0)\\na3(7,4, 3,-3)\\na4(5,7, 7, 8)\\n\\n=>\\n\\nМатрица из векторов\\nrank = 3 => Размерность пространства = 3 (a1, a2, a4)\\n\\nb1 = a1 = c1 = (2,1,3,-1) \\nb2 = alpha*b1 + c2\\n\\n(b1, b2) = 0 - scalar\\n\\n(alpha*b1 + c2, b1) = alpha * (b1, b1) + (c2, b1) = 0\\nalpha = - (c2, b1) / (b1, b1)\\nalpha = - (2 + 1 - 18) / (4 + 1 + 9 + 1) = 1\\n=>\\nb2 = (3,2,-3,-1)\\n\\n\\nb3 = alpha*b1 + betta*b2 + c3 - новые alpha и betta\\nalpha = - (c3, b1) / (b1, b1)\\nbetta = - (c3, b2) / (b2, b2)\\n=> b3 = (1,5,1,10)\\n\\nX = (4,6,13,8)\\n\\nb1 = (2,1, 3,-1) \\nb2 = (3,2,-3,-1)\\nb3 = (1,5, 1,10)\\n\\n4  = 2*x1 + 3*x2 +    x3\\n6  =   x1 + 2*x2 +  5*x3\\n13 = 3*x1 - 3*x2 +    x3\\n8 =   -x1 -   x2 + 10*x3\\n'"
      ]
     },
     "execution_count": 1,
     "metadata": {},
     "output_type": "execute_result"
    }
   ],
   "source": [
    "# В любом n-мерном пространстве есть ортогональный базис\n",
    "# Восстановление декартового базиса - ортогонализация\n",
    "\n",
    "'''\n",
    "a1(2,1, 3,-1)\n",
    "a2(1,1,-6, 0)\n",
    "a3(7,4, 3,-3)\n",
    "a4(5,7, 7, 8)\n",
    "\n",
    "=>\n",
    "\n",
    "Матрица из векторов\n",
    "rank = 3 => Размерность пространства = 3 (a1, a2, a4)\n",
    "\n",
    "b1 = a1 = c1 = (2,1,3,-1) \n",
    "b2 = alpha*b1 + c2\n",
    "\n",
    "(b1, b2) = 0 - scalar\n",
    "\n",
    "(alpha*b1 + c2, b1) = alpha * (b1, b1) + (c2, b1) = 0\n",
    "alpha = - (c2, b1) / (b1, b1)\n",
    "alpha = - (2 + 1 - 18) / (4 + 1 + 9 + 1) = 1\n",
    "=>\n",
    "b2 = (3,2,-3,-1)\n",
    "\n",
    "\n",
    "b3 = alpha*b1 + betta*b2 + c3 - новые alpha и betta\n",
    "alpha = - (c3, b1) / (b1, b1)\n",
    "betta = - (c3, b2) / (b2, b2)\n",
    "=> b3 = (1,5,1,10)\n",
    "\n",
    "X = (4,6,13,8)\n",
    "\n",
    "b1 = (2,1, 3,-1) \n",
    "b2 = (3,2,-3,-1)\n",
    "b3 = (1,5, 1,10)\n",
    "\n",
    "4  = 2*x1 + 3*x2 +    x3\n",
    "6  =   x1 + 2*x2 +  5*x3\n",
    "13 = 3*x1 - 3*x2 +    x3\n",
    "8 =   -x1 -   x2 + 10*x3\n",
    "'''"
   ]
  },
  {
   "cell_type": "code",
   "execution_count": 4,
   "metadata": {},
   "outputs": [
    {
     "name": "stdout",
     "output_type": "stream",
     "text": [
      "[Matrix([\n",
      "[ 2],\n",
      "[ 1],\n",
      "[ 3],\n",
      "[-1]]), Matrix([\n",
      "[ 3],\n",
      "[ 2],\n",
      "[-3],\n",
      "[-1]]), Matrix([\n",
      "[ 1],\n",
      "[ 5],\n",
      "[ 1],\n",
      "[10]])]\n"
     ]
    }
   ],
   "source": [
    "from sympy import *\n",
    "import numpy as np\n",
    "\n",
    "L = [Matrix([2,1,3,-1]), Matrix([1,1,-6,0]), Matrix([5,7,7,8])]\n",
    "\n",
    "o1 = GramSchmidt(L)\n",
    "print(o1)"
   ]
  },
  {
   "cell_type": "code",
   "execution_count": 13,
   "metadata": {},
   "outputs": [
    {
     "name": "stdout",
     "output_type": "stream",
     "text": [
      "4\n",
      "⎡              ⎡4/11⎤        ⎤\n",
      "⎢              ⎢    ⎥        ⎥\n",
      "⎢⎡2⎤  ⎡ 3/5 ⎤  ⎢-10 ⎥  ⎡-1/5⎤⎥\n",
      "⎢⎢ ⎥  ⎢     ⎥  ⎢────⎥  ⎢    ⎥⎥\n",
      "⎢⎢2⎥  ⎢-2/5 ⎥  ⎢ 11 ⎥  ⎢ 0  ⎥⎥\n",
      "⎢⎢ ⎥, ⎢     ⎥, ⎢    ⎥, ⎢    ⎥⎥\n",
      "⎢⎢1⎥  ⎢-7/10⎥  ⎢ 10 ⎥  ⎢ 0  ⎥⎥\n",
      "⎢⎢ ⎥  ⎢     ⎥  ⎢ ── ⎥  ⎢    ⎥⎥\n",
      "⎢⎣1⎦  ⎣3/10 ⎦  ⎢ 11 ⎥  ⎣2/5 ⎦⎥\n",
      "⎢              ⎢    ⎥        ⎥\n",
      "⎣              ⎣2/11⎦        ⎦\n",
      "\n",
      "[[ 1.1       ]\n",
      " [-1.54545455]\n",
      " [ 0.9       ]\n",
      " [ 8.        ]]\n"
     ]
    }
   ],
   "source": [
    "a = (2,2,1,1)\n",
    "b = (4,3,1,2)\n",
    "c = (8,5,3,4)\n",
    "d = (3,3,2,2)\n",
    "x = (0,2,3,4) # координаты в этом базисе\n",
    "# 2x1 + 3/5 * x2 + 4/11 * x3 - 1/5 * x4 = 0\n",
    "# 2x1 - 2/5 * x2 - x3 + 3x4 = 2\n",
    "\n",
    "# ВЕКТОРА\n",
    "A = Matrix([[2,2,1,1], [4,3,1,2], [8,5,3,4], [3,3,2,2]])\n",
    "print(A.rank())\n",
    "\n",
    "AA = [Matrix([2,2,1,1]), Matrix([4,3,1,2]), Matrix([8,5,3,4]), Matrix([3,3,2,2])] \n",
    "o1 = GramSchmidt(AA)\n",
    "pprint(o1)\n",
    "\n",
    "B = np.array([[2, 3/5, 4/11, -1/5], [2, -2/5, -10/11, 0], [1, -7/10, 10/11, 0], [1, 3/10, 2/11, 2/5]])\n",
    "#B = Matrix([2, 3/5, 4/11, -1/5], [2, -2/5, -10/11, 0], [1, -7/10, 10/11, 0], [1, 3/10, 2/11, 2/5])\n",
    "X = np.array([[0],[2],[3],[4]])\n",
    "result = np.linalg.inv(B).dot(X)\n",
    "print()\n",
    "print(result)"
   ]
  },
  {
   "cell_type": "code",
   "execution_count": null,
   "metadata": {},
   "outputs": [],
   "source": []
  }
 ],
 "metadata": {
  "kernelspec": {
   "display_name": "base",
   "language": "python",
   "name": "python3"
  },
  "language_info": {
   "codemirror_mode": {
    "name": "ipython",
    "version": 3
   },
   "file_extension": ".py",
   "mimetype": "text/x-python",
   "name": "python",
   "nbconvert_exporter": "python",
   "pygments_lexer": "ipython3",
   "version": "3.10.9"
  },
  "orig_nbformat": 4
 },
 "nbformat": 4,
 "nbformat_minor": 2
}
