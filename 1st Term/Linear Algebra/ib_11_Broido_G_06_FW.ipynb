{
 "cells": [
  {
   "cell_type": "code",
   "execution_count": 1,
   "metadata": {},
   "outputs": [],
   "source": [
    "from sympy import *\n",
    "import numpy as np\n"
   ]
  },
  {
   "cell_type": "code",
   "execution_count": 46,
   "metadata": {},
   "outputs": [
    {
     "name": "stdout",
     "output_type": "stream",
     "text": [
      "Point2D(2, 1) Line2D(Point2D(0, 0), Point2D(2, 0))\n",
      "x - 2 = 0\n",
      "x * cos(0) + y * sin(0) - 2 = 0\n",
      "Расстояние от начала координат до прямой = 2\n"
     ]
    }
   ],
   "source": [
    "# 1.141\n",
    "# б)\n",
    "M0 = Point(2,1)\n",
    "n = Line(Point(0,0), Point(2,0))\n",
    "print(M0,n)\n",
    "L = n.perpendicular_line(M0)\n",
    "print(L.equation(), \"= 0\")\n",
    "print(\"x * cos(0) + y * sin(0) - 2 = 0\")\n",
    "print(\"Расстояние от начала координат до прямой =\",L.distance(Point(0,0)))"
   ]
  },
  {
   "cell_type": "code",
   "execution_count": 44,
   "metadata": {},
   "outputs": [
    {
     "name": "stdout",
     "output_type": "stream",
     "text": [
      "x - 1 = 0\n",
      "x * cos(0) + y * sin(0) - 1 = 0\n",
      " <=> x - 1 = 0\n",
      "Расстояние от начала координат до прямой = 1\n"
     ]
    }
   ],
   "source": [
    "# 1.142\n",
    "# б\n",
    "M0 = Point(1,1)\n",
    "q = Line(Point(0,0), Point(0,-1))\n",
    "L = q.parallel_line(M0)\n",
    "print(L.equation(), \"= 0\")\n",
    "print(\"x * cos(0) + y * sin(0) - 1 = 0\")\n",
    "print(\" <=> x - 1 = 0\")\n",
    "print(\"Расстояние от начала координат до прямой =\",L.distance(Point(0,0)))"
   ]
  },
  {
   "cell_type": "code",
   "execution_count": 43,
   "metadata": {},
   "outputs": [
    {
     "name": "stdout",
     "output_type": "stream",
     "text": [
      "2*y + 1 = 0\n",
      "1) Расстояние от точки М до прямой = 1/2\n",
      "2) Прямая перпендикулярная: x - 1 = 0\n",
      "3) Прямая параллельная: y\n"
     ]
    }
   ],
   "source": [
    "# 1.144\n",
    "# б\n",
    "q = Line(Point(0,0), Point(2,0))\n",
    "M = Point(1,0)\n",
    "L = q.parallel_line(Point(0, -0.5)) # 2y + 1 = 0\n",
    "print(L.equation()*2, \"= 0\")\n",
    "# 1)\n",
    "print(\"1) Расстояние от точки М до прямой =\",L.distance(M))\n",
    "# 2)\n",
    "L1 = L.perpendicular_line(M)\n",
    "print(\"2) Прямая перпендикулярная:\", L1.equation(), \"= 0\")\n",
    "# 3)\n",
    "L2 = L.parallel_line(M)\n",
    "print(\"3) Прямая параллельная:\", L2.equation())\n"
   ]
  },
  {
   "cell_type": "code",
   "execution_count": 27,
   "metadata": {},
   "outputs": [
    {
     "name": "stdout",
     "output_type": "stream",
     "text": [
      "x - y - 1\n",
      "Parallel Plane:  x - y\n",
      "Distance between planes:  sqrt(2)/2\n"
     ]
    }
   ],
   "source": [
    "# 1.180\n",
    "# б)\n",
    "# P: x - y - 1 = 0\n",
    "M = Point(1,1,2)\n",
    "P = Plane(Point3D(1,0,0), Point3D(2,1,1), Point3D(4,3,0))\n",
    "print(P.equation() / (-3))\n",
    "P1 = P.parallel_plane(M)\n",
    "print(\"Parallel Plane: \", P1.equation() / (-3))\n",
    "d = P.distance(P1)\n",
    "print(\"Distance between planes: \", d)"
   ]
  },
  {
   "cell_type": "code",
   "execution_count": 32,
   "metadata": {},
   "outputs": [
    {
     "name": "stdout",
     "output_type": "stream",
     "text": [
      "2*x - y + z + 1\n",
      "-x - 2*y + 2\n"
     ]
    }
   ],
   "source": [
    "# 1.181\n",
    "# б)\n",
    "# P: 2x - y + z + 1 = 0\n",
    "M1 = Point(0,1,1)\n",
    "M2 = Point(2,0,1)\n",
    "P = Plane(Point3D(0,1,0),Point3D(1,4,1),Point3D(-1,-1,0))\n",
    "print(P.equation())\n",
    "P1 = P.perpendicular_plane(M1, M2)\n",
    "print(P1.equation())"
   ]
  },
  {
   "cell_type": "code",
   "execution_count": 39,
   "metadata": {},
   "outputs": [
    {
     "name": "stdout",
     "output_type": "stream",
     "text": [
      "2*x - y + z - 1\n",
      "-4*x + 2*y - 2*z - 1\n",
      "Угол = 0  т.е. пересечение: [] => ищем расстояние\n",
      "sqrt(6)/4\n"
     ]
    }
   ],
   "source": [
    "# 1.186\n",
    "# P1: 2x - y + z - 1 = 0\n",
    "# P2: -4x + 2y - 2z - 1 = 0\n",
    "P1 = Plane(Point3D(0,-1,0),Point3D(1,2,1),Point3D(-1,-3,0))\n",
    "P2 = Plane(Point3D(0,0.5,0),Point3D(1, 3, 0.5),Point3D(-1,-1, 0.5))\n",
    "print(P1.equation())\n",
    "print(P2.equation()*(-2))\n",
    "print(\"Угол =\", P1.angle_between(P2),\" т.е. пересечение:\",P1.intersection(P2), \"=> ищем расстояние\")\n",
    "print(P1.distance(P2))\n"
   ]
  },
  {
   "cell_type": "code",
   "execution_count": null,
   "metadata": {},
   "outputs": [],
   "source": []
  }
 ],
 "metadata": {
  "kernelspec": {
   "display_name": "base",
   "language": "python",
   "name": "python3"
  },
  "language_info": {
   "codemirror_mode": {
    "name": "ipython",
    "version": 3
   },
   "file_extension": ".py",
   "mimetype": "text/x-python",
   "name": "python",
   "nbconvert_exporter": "python",
   "pygments_lexer": "ipython3",
   "version": "3.10.9"
  },
  "orig_nbformat": 4
 },
 "nbformat": 4,
 "nbformat_minor": 2
}
