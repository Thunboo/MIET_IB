{
 "cells": [
  {
   "cell_type": "code",
   "execution_count": 1,
   "metadata": {},
   "outputs": [],
   "source": [
    "# Теорема Кронекера-Капелли\n",
    "\n",
    "# Система из n-уравнений и n-неизвестных"
   ]
  },
  {
   "cell_type": "code",
   "execution_count": 3,
   "metadata": {},
   "outputs": [
    {
     "name": "stdout",
     "output_type": "stream",
     "text": [
      "[[  4   3   2  25]\n",
      " [ -2   2   3 -10]\n",
      " [  3  -5   2  -4]]\n",
      "3 3\n",
      "[ 5.  3. -2.]\n"
     ]
    }
   ],
   "source": [
    "import numpy as np\n",
    "\n",
    "# 4x_1 + 3x_2 + 2x_3 =  25\n",
    "#-2x_1 + 2x_2 + 3x_3 = -10\n",
    "# 3x_1 - 5x_2 + 2x_3 = -4\n",
    "\n",
    "A = np.array([[4,3,2], [-2,2,3], [3,-5,2]])\n",
    "B = np.array([25,-10,-4])\n",
    "D = np.column_stack((A,B))\n",
    "rank_A = np.linalg.matrix_rank(A)\n",
    "rank_D = np.linalg.matrix_rank(D)\n",
    "print(D)\n",
    "print(rank_A, rank_D) # Rank = 3, Variables = 3 => 1 solution\n",
    "# det A != 0 => rank_A = 3\n",
    "\n",
    "X = np.linalg.inv(A).dot(B) # 5 3 -2\n",
    "#X = np.linalg.solve(A,B)\n",
    "print(X)"
   ]
  },
  {
   "cell_type": "code",
   "execution_count": 4,
   "metadata": {},
   "outputs": [
    {
     "name": "stdout",
     "output_type": "stream",
     "text": [
      "(Matrix([\n",
      "[1, 0, -4/5, -1/5],\n",
      "[0, 1, -2/5, -3/5],\n",
      "[0, 0,    0,    0],\n",
      "[0, 0,    0,    0]]), (0, 1))\n",
      "{(4*C1/5 + C2/5 + 1, 2*C1/5 + 3*C2/5 + 2, C1, C2)}\n",
      "True\n"
     ]
    }
   ],
   "source": [
    "A = np.matrix([[1,-2,0,1], [3,-1,-2,0], [2,1,-2,-1], [1,3,-2,-2]])\n",
    "A_ = np.array([[1,-2,0,1], [0,5,-2,-3], [0,5,-2,-3], [0,5,-2,-3]])\n",
    "B = np.array([-3,1,4,7])\n",
    "B_ = np.array([-3,10,10,10])\n",
    "D = np.column_stack((A,B))\n",
    "D_ = np.column_stack((A_, B_))\n",
    "rank_A = np.linalg.matrix_rank(A)\n",
    "rank_D = np.linalg.matrix_rank(D)\n",
    "#print(D)\n",
    "#print(D_)\n",
    "\n",
    "\n",
    "\n",
    "from sympy import *\n",
    "A = Matrix([[1,-2,0,1], [3,-1,-2,0], [2,1,-2,-1], [1,3,-2,-2]])\n",
    "RA = A.rref()\n",
    "print(RA)\n",
    "#print(help(Matrix))\n",
    "\n",
    "x1, x2, x3, x4 = symbols('x1 x2 C1 C2')\n",
    "B = Matrix([-3,1,4,7])\n",
    "X = linsolve((A,B), x1,x2,x3,x4)\n",
    "print(X)\n",
    "X = Matrix([[4*x3/5 + x4/5 + 1], [2*x3/5 + 3*x4/5 + 2], [x3], [x4]])\n",
    "print(A * X == B)\n"
   ]
  },
  {
   "cell_type": "code",
   "execution_count": 33,
   "metadata": {},
   "outputs": [
    {
     "name": "stdout",
     "output_type": "stream",
     "text": [
      "2\n",
      "[Matrix([\n",
      "[ 1/5],\n",
      "[-7/5],\n",
      "[   1],\n",
      "[   0]]), Matrix([\n",
      "[-2/5],\n",
      "[ 4/5],\n",
      "[   0],\n",
      "[   1]])] \n",
      "\n",
      "Общее решение системы уравнений:  Matrix([[C1/5 - 2*C2/5], [-7*C1/5 + 4*C2/5], [C1], [C2]])\n"
     ]
    }
   ],
   "source": [
    "A = Matrix([[1,3,4,-2], [0,5,7,-4], [1,8,11,-6], [-1,2,3,-2]])\n",
    "RA = A.rref()\n",
    "print(A.rank())\n",
    "\n",
    "E = A.nullspace() # ФУНДАМЕНТАЛЬНОЕ РЕШЕНИЕ\n",
    "print(E, '\\n')\n",
    "\n",
    "# => Rank = 2 =>\n",
    "C1, C2 = symbols('C1 C2')\n",
    "X = C1 * E[0] + C2 * E[1]\n",
    "print('Общее решение системы уравнений: ',X)\n",
    "# Решение (0,0,0,0) - ТРИВИАЛЬНОЕ"
   ]
  },
  {
   "cell_type": "code",
   "execution_count": 34,
   "metadata": {},
   "outputs": [],
   "source": [
    "# Д/З :\n",
    "# 2.193, 2.194, 2.208, 2.209, 2.227, 2.228"
   ]
  },
  {
   "cell_type": "code",
   "execution_count": 36,
   "metadata": {},
   "outputs": [
    {
     "name": "stdout",
     "output_type": "stream",
     "text": [
      "[[  4   4   5   5   0]\n",
      " [  2   0   3  -1  10]\n",
      " [  1   1  -5   0 -10]\n",
      " [  0   3   2   0   1]] \n",
      "\n",
      "[ 1. -1.  2. -2.]\n"
     ]
    }
   ],
   "source": [
    "# 2.193\n",
    "\n",
    "A = np.array([[4,4,5,5], [2,0,3,-1], [1,1,-5,0], [0,3,2,0]])\n",
    "B = np.array([0,10,-10,1])\n",
    "D = np.column_stack((A,B))\n",
    "rank_A = np.linalg.matrix_rank(A)\n",
    "rank_D = np.linalg.matrix_rank(D)\n",
    "print(D, '\\n')\n",
    "\n",
    "X = np.linalg.inv(A).dot(B)\n",
    "print(X)"
   ]
  },
  {
   "cell_type": "code",
   "execution_count": 47,
   "metadata": {},
   "outputs": [
    {
     "name": "stdout",
     "output_type": "stream",
     "text": [
      "[[ 2 -1  3  2  4]\n",
      " [ 3  3  3  2  6]\n",
      " [ 3 -1 -1 -2  6]\n",
      " [ 3 -1  3 -1  6]] \n",
      "\n",
      "[' 2.0', '-0.0', ' 0.0', ' 0.0']\n"
     ]
    }
   ],
   "source": [
    "# 2.194\n",
    "\n",
    "A = np.array([[2,-1,3,2], [3,3,3,2], [3,-1,-1,-2], [3,-1,3,-1]])\n",
    "B = np.array([4,6,6,6])\n",
    "D = np.column_stack((A,B))\n",
    "rank_A = np.linalg.matrix_rank(A)\n",
    "rank_D = np.linalg.matrix_rank(D)\n",
    "print(D, '\\n')\n",
    "\n",
    "X = np.linalg.inv(A).dot(B)\n",
    "Ans = []\n",
    "for i in X:\n",
    "    Ans.append(f'{i : 0.1f}')\n",
    "print(Ans)"
   ]
  },
  {
   "cell_type": "code",
   "execution_count": 48,
   "metadata": {},
   "outputs": [
    {
     "name": "stdout",
     "output_type": "stream",
     "text": [
      "[[ 3 -2 -5  1  3]\n",
      " [ 2 -3  1  5 -3]\n",
      " [ 1  2  0 -4 -3]\n",
      " [ 1 -1 -4  9 22]] \n",
      "\n",
      "['-1.0', ' 3.0', '-2.0', ' 2.0']\n"
     ]
    }
   ],
   "source": [
    "# 2.208\n",
    "\n",
    "A = np.array([[3,-2,-5,1], [2,-3,1,5], [1,2,0,-4], [1,-1,-4,9]])\n",
    "B = np.array([3,-3,-3,22])\n",
    "D = np.column_stack((A,B))\n",
    "rank_A = np.linalg.matrix_rank(A)\n",
    "rank_D = np.linalg.matrix_rank(D)\n",
    "print(D, '\\n')\n",
    "\n",
    "X = np.linalg.inv(A).dot(B)\n",
    "Ans = []\n",
    "for i in X:\n",
    "    Ans.append(f'{i : 0.1f}')\n",
    "print(Ans)"
   ]
  },
  {
   "cell_type": "code",
   "execution_count": 10,
   "metadata": {},
   "outputs": [
    {
     "name": "stdout",
     "output_type": "stream",
     "text": [
      "[[ 1  1 -6 -4  6]\n",
      " [ 3 -1 -6 -4  2]\n",
      " [ 2  3  9  2  6]\n",
      " [ 3  2  3  8 -7]] \n",
      "\n",
      "['-0.000', ' 2.000', ' 0.333', '-1.500']\n"
     ]
    }
   ],
   "source": [
    "# 2.209\n",
    "\n",
    "A = np.array([[1,1,-6,-4], [3,-1,-6,-4], [2,3,9,2], [3,2,3,8]])\n",
    "B = np.array([6,2,6,-7])\n",
    "D = np.column_stack((A,B))\n",
    "rank_A = np.linalg.matrix_rank(A)\n",
    "rank_D = np.linalg.matrix_rank(D)\n",
    "print(D, '\\n')\n",
    "\n",
    "X = np.linalg.inv(A).dot(B)\n",
    "Ans = []\n",
    "for i in X:\n",
    "    Ans.append(f'{i : 0.3f}')\n",
    "print(Ans)"
   ]
  },
  {
   "cell_type": "code",
   "execution_count": 53,
   "metadata": {},
   "outputs": [
    {
     "name": "stdout",
     "output_type": "stream",
     "text": [
      "2\n",
      "[Matrix([\n",
      "[ 8],\n",
      "[-6],\n",
      "[ 1],\n",
      "[ 0]]), Matrix([\n",
      "[-7],\n",
      "[ 5],\n",
      "[ 0],\n",
      "[ 1]])] \n",
      "\n",
      "Общее решение системы уравнений:  Matrix([[8*C1 - 7*C2], [-6*C1 + 5*C2], [C1], [C2]])\n"
     ]
    }
   ],
   "source": [
    "# № 2.227\n",
    "\n",
    "A = Matrix([[1,2, 4,-3], \n",
    "            [3,5, 6,-4], \n",
    "            [4,5,-2, 3], \n",
    "            [3,8,24,-19]])\n",
    "RA = A.rref()\n",
    "print(A.rank())\n",
    "\n",
    "E = A.nullspace() # ФУНДАМЕНТАЛЬНОЕ РЕШЕНИЕ\n",
    "print(E, '\\n')\n",
    "\n",
    "# => Rank = 2 =>\n",
    "C1, C2 = symbols('C1 C2')\n",
    "X = C1 * E[0] + C2 * E[1]\n",
    "print('Общее решение системы уравнений: ',X)\n",
    "# Решение (0,0,0,0) - ТРИВИАЛЬНОЕ"
   ]
  },
  {
   "cell_type": "code",
   "execution_count": 8,
   "metadata": {},
   "outputs": [
    {
     "name": "stdout",
     "output_type": "stream",
     "text": [
      "2 \n",
      "\n",
      "[Matrix([\n",
      "[2],\n",
      "[1],\n",
      "[0],\n",
      "[0]]), Matrix([\n",
      "[ 2/7],\n",
      "[   0],\n",
      "[-5/7],\n",
      "[   1]])] \n",
      "\n",
      "Общее решение системы уравнений:  Matrix([[2*C1 + 2*C2/7], [C1], [-5*C2/7], [C2]])\n"
     ]
    }
   ],
   "source": [
    "# № 2.228\n",
    "\n",
    "A = Matrix([[2,-4, 5, 3], \n",
    "            [3,-6, 4, 2], \n",
    "            [4,-8,17,11]])\n",
    "RA = A.rref()\n",
    "print(A.rank(), '\\n')\n",
    "\n",
    "E = A.nullspace() # ФУНДАМЕНТАЛЬНОЕ РЕШЕНИЕ\n",
    "print(E, '\\n')\n",
    "\n",
    "# => Rank = 2 =>\n",
    "C1, C2 = symbols('C1 C2')\n",
    "X = C1 * E[0] + C2 * E[1]\n",
    "print('Общее решение системы уравнений: ',X)\n",
    "\n",
    "# Решение (0,0,0,0) - ТРИВИАЛЬНОЕ"
   ]
  },
  {
   "cell_type": "code",
   "execution_count": 58,
   "metadata": {},
   "outputs": [
    {
     "name": "stdout",
     "output_type": "stream",
     "text": [
      "Общее решение системы уравнений: \n",
      "2*x2 + 2*x4/7, x2, -5*x4/7, x4\n",
      "True\n"
     ]
    }
   ],
   "source": [
    "A = Matrix([[2,-4, 5, 3], \n",
    "            [3,-6, 4, 2], \n",
    "            [4,-8,17,11]]) # Тут ЛК-ции неизвестных\n",
    "B = Matrix([0,0,0])     # Чему равны эти ЛК\n",
    "RA = A.rref()\n",
    "\n",
    "x1, x2, x3, x4 = symbols('x1 C1 x3 C2')\n",
    "X = linsolve((A,B), x1,x2,x3,x4)\n",
    "\n",
    "sX = str(X)[2:-2]\n",
    "sX = sX.replace('C1','x2')\n",
    "sX = sX.replace('C2','x4')\n",
    "\n",
    "print('Общее решение системы уравнений: ')\n",
    "print(sX)\n",
    "X = Matrix([[2*x2 + 2*x4/7], [x2], [-5*x4/7], [x4]])\n",
    "print(A * X == B)"
   ]
  },
  {
   "cell_type": "code",
   "execution_count": null,
   "metadata": {},
   "outputs": [],
   "source": []
  }
 ],
 "metadata": {
  "kernelspec": {
   "display_name": "base",
   "language": "python",
   "name": "python3"
  },
  "language_info": {
   "codemirror_mode": {
    "name": "ipython",
    "version": 3
   },
   "file_extension": ".py",
   "mimetype": "text/x-python",
   "name": "python",
   "nbconvert_exporter": "python",
   "pygments_lexer": "ipython3",
   "version": "3.10.11"
  },
  "orig_nbformat": 4
 },
 "nbformat": 4,
 "nbformat_minor": 2
}
