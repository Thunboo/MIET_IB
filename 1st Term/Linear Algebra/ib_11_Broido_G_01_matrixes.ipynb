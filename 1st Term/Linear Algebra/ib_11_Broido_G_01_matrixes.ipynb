{
 "cells": [
  {
   "cell_type": "code",
   "execution_count": 19,
   "metadata": {},
   "outputs": [
    {
     "name": "stdout",
     "output_type": "stream",
     "text": [
      "['Manual answers', 1.0, 3.0, 5.0]\n",
      "['Function answers', 1.0, 3.0, 5.0]\n",
      "Answer by using inverse:\n",
      " [[1.]\n",
      " [3.]\n",
      " [5.]]\n"
     ]
    }
   ],
   "source": [
    "# Первая система уравнений\n",
    "import numpy as np\n",
    "\n",
    "arr = np.matrix([ [2,1,0], [1,0,3], [0,5,-1] ])\n",
    "arrx = np.matrix([ [5,1,0], [16,0,3], [10,5,-1] ])\n",
    "arry = np.matrix([ [2,5,0], [1,16,3], [0,10,-1] ])\n",
    "arrz = np.matrix([ [2,1,5], [1,0,16], [0,5,10] ])\n",
    "arr_answers = np.matrix([ [5],[16],[10]])\n",
    "arr_inverse = np.linalg.inv(arr)\n",
    "\n",
    "det_manual = ( (arr[0,0] * arr[1,1] * arr[2,2]) + (arr[0,1] * arr[1,2] * arr[2,0])\n",
    "             + (arr[0,2] * arr[1,0] * arr[2,1]) - (arr[0,2] * arr[1,1] * arr[2,0]) \n",
    "             - (arr[0,1] * arr[1,0] * arr[2,2]) - (arr[0,0] * arr[1,2] * arr[2,1]) )\n",
    "             # = -29\n",
    "det_function = float( format(np.linalg.det(arr), '0.1f') ) # = -29.0\n",
    "det_x = np.linalg.det(arrx) # Не будем второй раз писать всё в ручную\n",
    "det_y = np.linalg.det(arry) # Воспользуемся встроенной функцией det()\n",
    "det_z = np.linalg.det(arrz) # Из библиотеки numpy\n",
    "\n",
    "x1,y1,z1 = det_x / det_manual,   det_y / det_manual,   det_z / det_manual\n",
    "x2,y2,z2 = det_x / det_function, det_y / det_function, det_z / det_function\n",
    "X = arr_inverse * arr_answers\n",
    "ans = [['Manual answers', x1,y1,z1], ['Function answers',x2,y2,z2]]\n",
    "for i in range(len(ans)):\n",
    "    for j in range(1,4):    \n",
    "        ans[i][j] = float( format( ans[i][j], '0.1f'))\n",
    "for i in ans: print(i)\n",
    "print('Answer by using inverse:\\n',X)"
   ]
  },
  {
   "cell_type": "code",
   "execution_count": 20,
   "metadata": {},
   "outputs": [
    {
     "name": "stdout",
     "output_type": "stream",
     "text": [
      "['Manual answers', 3.0, 1.0, -1.0]\n",
      "['Function answers', 3.0, 1.0, -1.0]\n",
      "Answer by using inverse:\n",
      " [[ 3.]\n",
      " [ 1.]\n",
      " [-1.]]\n"
     ]
    }
   ],
   "source": [
    "# Вторая система уравнений\n",
    "import numpy as np\n",
    "\n",
    "arr = np.matrix([  [1,1,-2], [2,3,-7],  [5,2,1] ])\n",
    "arrx = np.matrix([ [6,1,-2], [16,3,-7], [16,2,1] ])\n",
    "arry = np.matrix([ [1,6,-2], [2,16,-7], [5,16,1] ])\n",
    "arrz = np.matrix([ [1,1,6],  [2,3,16],  [5,2,16] ])\n",
    "arr_answers = np.matrix([ [6],[16],[16]])\n",
    "arr_inverse = np.linalg.inv(arr)\n",
    "\n",
    "det_manual = ( (arr[0,0] * arr[1,1] * arr[2,2]) + (arr[0,1] * arr[1,2] * arr[2,0])\n",
    "             + (arr[0,2] * arr[1,0] * arr[2,1]) - (arr[0,2] * arr[1,1] * arr[2,0]) \n",
    "             - (arr[0,1] * arr[1,0] * arr[2,2]) - (arr[0,0] * arr[1,2] * arr[2,1]) )\n",
    "             # = -29\n",
    "det_function = float( format(np.linalg.det(arr), '0.1f') ) # = -29.0\n",
    "det_x = np.linalg.det(arrx) # Не будем второй раз писать всё в ручную\n",
    "det_y = np.linalg.det(arry) # Воспользуемся встроенной функцией det()\n",
    "det_z = np.linalg.det(arrz) # Из библиотеки numpy\n",
    "\n",
    "x1,y1,z1 = det_x / det_manual,   det_y / det_manual,   det_z / det_manual\n",
    "x2,y2,z2 = det_x / det_function, det_y / det_function, det_z / det_function\n",
    "X = arr_inverse * arr_answers\n",
    "ans = [['Manual answers', x1,y1,z1], ['Function answers',x2,y2,z2]]\n",
    "for i in range(len(ans)):\n",
    "    for j in range(1,4):    \n",
    "        ans[i][j] = float( format( ans[i][j], '0.1f'))\n",
    "for i in ans: print(i)\n",
    "print('Answer by using inverse:\\n',X)"
   ]
  },
  {
   "cell_type": "code",
   "execution_count": 1,
   "metadata": {},
   "outputs": [
    {
     "name": "stdout",
     "output_type": "stream",
     "text": [
      "[[cos(335) -sin(335)]\n",
      " [sin(335) cos(335)]]\n",
      "cos(335)**2 + sin(335)**2  =  1.00000000000000\n",
      "                OR \n",
      "cos(335)**2 + sin(335)**2  =  1\n"
     ]
    }
   ],
   "source": [
    "# Третье задание, с матрицей с тригонометрическими функциями\n",
    "import sympy as sp \n",
    "import numpy as np\n",
    "import random\n",
    "\n",
    "phi = random.randint(0,1000)\n",
    "Trig_matrix = np.matrix( [ [sp.cos(phi), -sp.sin(phi)], \n",
    "                           [sp.sin(phi),  sp.cos(phi)] ])\n",
    "print(Trig_matrix)\n",
    "\n",
    "det = (Trig_matrix[0,0] * Trig_matrix[1,1]) - (Trig_matrix[0,1] * Trig_matrix[1,0])\n",
    "\n",
    "print(det, ' = ', sp.N(det)) # Counting the result of expression\n",
    "print('                OR ')\n",
    "print(det, ' = ', sp.trigsimp(det)) # Simplifying the expression\n"
   ]
  },
  {
   "cell_type": "code",
   "execution_count": 78,
   "metadata": {},
   "outputs": [],
   "source": [
    "#import sympy as sp \n",
    "\n",
    "#print( (sp.N( sp.sin( 1.57 )) ) ) # N() - returns numeral value\n",
    "#print( sp.N(        sp.sin(1)**2 + sp.cos(1)**2 ) ) # Equals 1.000000000...\n",
    "#print( sp.trigsimp( sp.sin(1)**2 + sp.cos(1)**2 ) ) # Equals exactly to 1\n"
   ]
  },
  {
   "cell_type": "code",
   "execution_count": 8,
   "metadata": {},
   "outputs": [
    {
     "name": "stdout",
     "output_type": "stream",
     "text": [
      "[[None None None None None]\n",
      " [None None None None None]\n",
      " [None None None None None]\n",
      " [None None None None None]\n",
      " [None None None None None]]\n",
      "Введите значения первого уравнения через пробел\n",
      "[[1 2 3 4 5]\n",
      " [None None None None None]\n",
      " [None None None None None]\n",
      " [None None None None None]\n",
      " [None None None None None]]\n"
     ]
    }
   ],
   "source": [
    "# Попытка автоматизации решения путем принятия на вход значений из \n",
    "# системы уравнений путём ввода пользователем соответствующих\n",
    "# значений в окно запроса функции input()\n",
    "import numpy as np\n",
    "\n",
    "arr = np.matrix( [ [None,None,None,None,None], \n",
    "                   [None,None,None,None,None],\n",
    "                   [None,None,None,None,None], \n",
    "                   [None,None,None,None,None],\n",
    "                   [None,None,None,None,None] ])\n",
    "print(arr)\n",
    "print('Введите значения первого уравнения через пробел')\n",
    "a = input()\n",
    "res = a.split()\n",
    "for i in range(5):\n",
    "    for j in range(5):\n",
    "        if (i*5 + j + 1) > len(res): break\n",
    "        else:\n",
    "            arr[i,j] = int(res[ i*5 + j ])\n",
    "print(arr)"
   ]
  },
  {
   "cell_type": "code",
   "execution_count": null,
   "metadata": {},
   "outputs": [],
   "source": []
  }
 ],
 "metadata": {
  "kernelspec": {
   "display_name": "Python 3",
   "language": "python",
   "name": "python3"
  },
  "language_info": {
   "codemirror_mode": {
    "name": "ipython",
    "version": 3
   },
   "file_extension": ".py",
   "mimetype": "text/x-python",
   "name": "python",
   "nbconvert_exporter": "python",
   "pygments_lexer": "ipython3",
   "version": "3.10.9"
  },
  "orig_nbformat": 4
 },
 "nbformat": 4,
 "nbformat_minor": 2
}
