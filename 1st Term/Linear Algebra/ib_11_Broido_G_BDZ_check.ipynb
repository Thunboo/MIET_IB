{
 "cells": [
  {
   "cell_type": "code",
   "execution_count": 1,
   "id": "33984db4",
   "metadata": {},
   "outputs": [],
   "source": [
    "import numpy as np\n",
    "from sympy import *\n",
    "import matplotlib.pyplot as plt\n"
   ]
  },
  {
   "cell_type": "code",
   "execution_count": 25,
   "id": "7eef3a69",
   "metadata": {},
   "outputs": [
    {
     "name": "stdout",
     "output_type": "stream",
     "text": [
      "30\n",
      "[-36 -21 -75]\n",
      "-282.00\n",
      "4.20084025208403  = 30 / sqrt(51)\n",
      "85.80209787645056\n",
      "47.0\n"
     ]
    }
   ],
   "source": [
    "# 1.5\n",
    "# 1-2)\n",
    "ab = np.array([-5,5,1])\n",
    "ac = np.array([4,11,-5])\n",
    "Ans = np.dot(ab, ac)\n",
    "print(Ans)\n",
    "Ans = np.cross(ab, ac)\n",
    "print(Ans)\n",
    "# 3)\n",
    "Ans = np.matrix([[-5,5,1], [4,11,-5], [-9,11,5]])\n",
    "print(f'{np.linalg.det(Ans) : 0.2f}')\n",
    "# 4)\n",
    "Ans = np.dot(ab, ac) / np.linalg.norm(ab)\n",
    "print(Ans, \" = 30 / sqrt(51)\")\n",
    "# 5)\n",
    "cos_angle = np.dot(ab, ac) / ( np.linalg.norm(ab) * np.linalg.norm(ac) )\n",
    "sin_angle = np.sqrt( 1 - cos_angle**2 )\n",
    "Ans = np.linalg.norm(ab) * np.linalg.norm(ac) * sin_angle\n",
    "print(Ans)\n",
    "Ans = np.abs(np.dot(np.cross(ab, ac), np.array([-9,11,5])))/6\n",
    "print(Ans)"
   ]
  },
  {
   "cell_type": "code",
   "execution_count": 3,
   "id": "9158ba93",
   "metadata": {},
   "outputs": [
    {
     "name": "stdout",
     "output_type": "stream",
     "text": [
      "0.0\n",
      "0.0\n"
     ]
    }
   ],
   "source": [
    "print(3 * -(23.5 / 21.5) + 2*(92/43) - 1)\n",
    "print(3 * -(15.5 / 21.5) + 2*(68/43) - 1)"
   ]
  },
  {
   "cell_type": "code",
   "execution_count": 38,
   "metadata": {},
   "outputs": [
    {
     "name": "stdout",
     "output_type": "stream",
     "text": [
      "2*x + 11*y - 51\n",
      "11*x - 2*y\n",
      "2*x + y - 11\n"
     ]
    }
   ],
   "source": [
    "# 2.5\n",
    "# 1)\n",
    "A, B, C = Point(6,-1), Point(9,3), Point(-2,5)\n",
    "BC = C - B\n",
    "x,y = symbols('x y')\n",
    "f = (x + 2)/BC[0] - (y - 5)/BC[1]\n",
    "print(f  * -22)\n",
    "# 2)\n",
    "# => n = {2, 11}\n",
    "n = Point(2, 11)\n",
    "f = x/n[0] - y/n[1]\n",
    "print(f * 22)\n",
    "# 3)\n",
    "D = (B + C) / 2\n",
    "AD = D - A\n",
    "f = (x - A[0])/AD[0] - (y - A[1])/AD[1]\n",
    "print(f*-5)"
   ]
  },
  {
   "cell_type": "code",
   "execution_count": 9,
   "metadata": {},
   "outputs": [
    {
     "name": "stdout",
     "output_type": "stream",
     "text": [
      "Point2D(0, -21/4)\n",
      "19*sqrt(29)/58\n"
     ]
    }
   ],
   "source": [
    "# 2.35\n",
    "L1 = Line(Point(0,-10), Point(-4,0))\n",
    "L2 = Line(Point(0,-5.25), Point(-2.1,0))\n",
    "d = L1.distance(L2.points[0])\n",
    "print(d)"
   ]
  },
  {
   "cell_type": "code",
   "execution_count": 10,
   "metadata": {},
   "outputs": [
    {
     "name": "stdout",
     "output_type": "stream",
     "text": [
      "17/5\n"
     ]
    }
   ],
   "source": [
    "# 2.50\n",
    "L1 = Line(Point(5,0), Point(0,-15/4))\n",
    "P = Point(6,5)\n",
    "print(L1.distance(P))"
   ]
  },
  {
   "cell_type": "code",
   "execution_count": 16,
   "metadata": {},
   "outputs": [
    {
     "name": "stdout",
     "output_type": "stream",
     "text": [
      "x,y = Point2D(4*t - 1, t - 5)\n",
      "x - 4*y - 19\n",
      "x,y = Point2D(t + 2, -3*t - 1)\n",
      "3*x + y - 5\n",
      "x,y = Point2D(-3*t - 2, -4*t - 2)\n",
      "4*x - 3*y + 2\n"
     ]
    }
   ],
   "source": [
    "# 2.65\n",
    "M1, M2, M3 = Point(-2,-2), Point(2,-1), Point(-1,-5)\n",
    "M1M2 = Line(M1, M2)\n",
    "BC = M1M2.parallel_line(M3)\n",
    "print(\"x,y =\", BC.arbitrary_point())\n",
    "print(BC.equation() * (-1))\n",
    "\n",
    "M1M3 = Line(M1, M3)\n",
    "AC = M1M3.parallel_line(M2)\n",
    "print(\"x,y =\", AC.arbitrary_point())\n",
    "print(AC.equation())\n",
    "\n",
    "M2M3 = Line(M2, M3)\n",
    "AB = M2M3.parallel_line(M1)\n",
    "print(\"x,y =\", AB.arbitrary_point())\n",
    "print(AB.equation())"
   ]
  },
  {
   "cell_type": "code",
   "execution_count": null,
   "metadata": {},
   "outputs": [],
   "source": [
    "# 2.75\n"
   ]
  },
  {
   "cell_type": "code",
   "execution_count": null,
   "metadata": {},
   "outputs": [],
   "source": [
    "# 2.85\n"
   ]
  },
  {
   "cell_type": "code",
   "execution_count": 43,
   "metadata": {},
   "outputs": [
    {
     "data": {
      "text/plain": [
       "'\\nУгол поворота: 45 градусов\\nБазис старой кривой: \\n    i{1/sqrt(2), -1/sqrt(2)}\\n    j{1/sqrt(2),  1/sqrt(2)}\\n'"
      ]
     },
     "execution_count": 43,
     "metadata": {},
     "output_type": "execute_result"
    },
    {
     "data": {
      "image/png": "[encoded data removed]",
      "text/plain": [
       "<Figure size 640x480 with 1 Axes>"
      ]
     },
     "metadata": {},
     "output_type": "display_data"
    }
   ],
   "source": [
    "angle = np.arctan(8/15)/2\n",
    "\n",
    "x = np.linspace(-10, 10, 100)\n",
    "y = -(np.sqrt(17)*x**2)/6\n",
    "\n",
    "x1 = x*np.cos(angle) - y*np.sin(angle)\n",
    "y1 = x*np.sin(angle) + y*np.cos(angle)\n",
    "plt.plot(x, y)\n",
    "plt.plot(x1, y1)\n",
    "plt.arrow(-10,0,18,0,width=0.15)\n",
    "plt.arrow(0,-10,0,18,width=0.15)\n",
    "a = -10*np.cos(angle) - 0*np.sin(angle)\n",
    "b = -10*np.sin(angle) + 0*np.cos(angle)\n",
    "c = -10*np.cos(angle) - 0*np.sin(angle)\n",
    "d = -10*np.sin(angle) + 0*np.cos(angle)\n",
    "plt.arrow(a,b,c,d,width=0.15, color='green')\n",
    "plt.arrow(-5, 5, 10, -10,width=0.15, color='green')\n",
    "\n",
    "plt.plot( x*np.cos(angle) - y*np.sin(angle), x*np.sin(angle) + y*np.cos(angle))\n",
    "\n",
    "plt.grid()\n",
    "plt.axis([-15,15,-50,5])\n",
    "\n",
    "'''\n",
    "Угол поворота: 45 градусов\n",
    "Базис старой кривой: \n",
    "    i{1/sqrt(2), -1/sqrt(2)}\n",
    "    j{1/sqrt(2),  1/sqrt(2)}\n",
    "'''"
   ]
  },
  {
   "cell_type": "code",
   "execution_count": null,
   "metadata": {},
   "outputs": [],
   "source": []
  }
 ],
 "metadata": {
  "kernelspec": {
   "display_name": "Python 3 (ipykernel)",
   "language": "python",
   "name": "python3"
  },
  "language_info": {
   "codemirror_mode": {
    "name": "ipython",
    "version": 3
   },
   "file_extension": ".py",
   "mimetype": "text/x-python",
   "name": "python",
   "nbconvert_exporter": "python",
   "pygments_lexer": "ipython3",
   "version": "3.10.11"
  }
 },
 "nbformat": 4,
 "nbformat_minor": 5
}
